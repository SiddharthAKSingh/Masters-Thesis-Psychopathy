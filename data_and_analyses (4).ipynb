{
  "cells": [
    {
      "cell_type": "code",
      "execution_count": 274,
      "metadata": {
        "colab": {
          "base_uri": "https://localhost:8080/"
        },
        "id": "TDHhooSEXIfo",
        "outputId": "eaa19bb9-2ad4-478b-fd6f-4c5f07ec94dd"
      },
      "outputs": [
        {
          "output_type": "stream",
          "name": "stdout",
          "text": [
            "Drive already mounted at /content/gdrive; to attempt to forcibly remount, call drive.mount(\"/content/gdrive\", force_remount=True).\n"
          ]
        }
      ],
      "source": [
        "# @title\n",
        "from google.colab import drive\n",
        "drive.mount('/content/gdrive')"
      ]
    },
    {
      "cell_type": "code",
      "execution_count": 275,
      "metadata": {
        "id": "hZ2frlW7M0eq",
        "collapsed": true,
        "colab": {
          "base_uri": "https://localhost:8080/"
        },
        "outputId": "c6ab67bc-0389-46e5-b2f9-fe25787551ad"
      },
      "outputs": [
        {
          "output_type": "stream",
          "name": "stdout",
          "text": [
            "Requirement already satisfied: spacy in /usr/local/lib/python3.10/dist-packages (3.7.4)\n",
            "Requirement already satisfied: spacy-legacy<3.1.0,>=3.0.11 in /usr/local/lib/python3.10/dist-packages (from spacy) (3.0.12)\n",
            "Requirement already satisfied: spacy-loggers<2.0.0,>=1.0.0 in /usr/local/lib/python3.10/dist-packages (from spacy) (1.0.5)\n",
            "Requirement already satisfied: murmurhash<1.1.0,>=0.28.0 in /usr/local/lib/python3.10/dist-packages (from spacy) (1.0.10)\n",
            "Requirement already satisfied: cymem<2.1.0,>=2.0.2 in /usr/local/lib/python3.10/dist-packages (from spacy) (2.0.8)\n",
            "Requirement already satisfied: preshed<3.1.0,>=3.0.2 in /usr/local/lib/python3.10/dist-packages (from spacy) (3.0.9)\n",
            "Requirement already satisfied: thinc<8.3.0,>=8.2.2 in /usr/local/lib/python3.10/dist-packages (from spacy) (8.2.3)\n",
            "Requirement already satisfied: wasabi<1.2.0,>=0.9.1 in /usr/local/lib/python3.10/dist-packages (from spacy) (1.1.2)\n",
            "Requirement already satisfied: srsly<3.0.0,>=2.4.3 in /usr/local/lib/python3.10/dist-packages (from spacy) (2.4.8)\n",
            "Requirement already satisfied: catalogue<2.1.0,>=2.0.6 in /usr/local/lib/python3.10/dist-packages (from spacy) (2.0.10)\n",
            "Requirement already satisfied: weasel<0.4.0,>=0.1.0 in /usr/local/lib/python3.10/dist-packages (from spacy) (0.3.4)\n",
            "Requirement already satisfied: typer<0.10.0,>=0.3.0 in /usr/local/lib/python3.10/dist-packages (from spacy) (0.9.4)\n",
            "Requirement already satisfied: smart-open<7.0.0,>=5.2.1 in /usr/local/lib/python3.10/dist-packages (from spacy) (6.4.0)\n",
            "Requirement already satisfied: tqdm<5.0.0,>=4.38.0 in /usr/local/lib/python3.10/dist-packages (from spacy) (4.66.2)\n",
            "Requirement already satisfied: requests<3.0.0,>=2.13.0 in /usr/local/lib/python3.10/dist-packages (from spacy) (2.31.0)\n",
            "Requirement already satisfied: pydantic!=1.8,!=1.8.1,<3.0.0,>=1.7.4 in /usr/local/lib/python3.10/dist-packages (from spacy) (2.7.0)\n",
            "Requirement already satisfied: jinja2 in /usr/local/lib/python3.10/dist-packages (from spacy) (3.1.3)\n",
            "Requirement already satisfied: setuptools in /usr/local/lib/python3.10/dist-packages (from spacy) (67.7.2)\n",
            "Requirement already satisfied: packaging>=20.0 in /usr/local/lib/python3.10/dist-packages (from spacy) (24.0)\n",
            "Requirement already satisfied: langcodes<4.0.0,>=3.2.0 in /usr/local/lib/python3.10/dist-packages (from spacy) (3.3.0)\n",
            "Requirement already satisfied: numpy>=1.19.0 in /usr/local/lib/python3.10/dist-packages (from spacy) (1.25.2)\n",
            "Requirement already satisfied: annotated-types>=0.4.0 in /usr/local/lib/python3.10/dist-packages (from pydantic!=1.8,!=1.8.1,<3.0.0,>=1.7.4->spacy) (0.6.0)\n",
            "Requirement already satisfied: pydantic-core==2.18.1 in /usr/local/lib/python3.10/dist-packages (from pydantic!=1.8,!=1.8.1,<3.0.0,>=1.7.4->spacy) (2.18.1)\n",
            "Requirement already satisfied: typing-extensions>=4.6.1 in /usr/local/lib/python3.10/dist-packages (from pydantic!=1.8,!=1.8.1,<3.0.0,>=1.7.4->spacy) (4.11.0)\n",
            "Requirement already satisfied: charset-normalizer<4,>=2 in /usr/local/lib/python3.10/dist-packages (from requests<3.0.0,>=2.13.0->spacy) (3.3.2)\n",
            "Requirement already satisfied: idna<4,>=2.5 in /usr/local/lib/python3.10/dist-packages (from requests<3.0.0,>=2.13.0->spacy) (3.7)\n",
            "Requirement already satisfied: urllib3<3,>=1.21.1 in /usr/local/lib/python3.10/dist-packages (from requests<3.0.0,>=2.13.0->spacy) (2.0.7)\n",
            "Requirement already satisfied: certifi>=2017.4.17 in /usr/local/lib/python3.10/dist-packages (from requests<3.0.0,>=2.13.0->spacy) (2024.2.2)\n",
            "Requirement already satisfied: blis<0.8.0,>=0.7.8 in /usr/local/lib/python3.10/dist-packages (from thinc<8.3.0,>=8.2.2->spacy) (0.7.11)\n",
            "Requirement already satisfied: confection<1.0.0,>=0.0.1 in /usr/local/lib/python3.10/dist-packages (from thinc<8.3.0,>=8.2.2->spacy) (0.1.4)\n",
            "Requirement already satisfied: click<9.0.0,>=7.1.1 in /usr/local/lib/python3.10/dist-packages (from typer<0.10.0,>=0.3.0->spacy) (8.1.7)\n",
            "Requirement already satisfied: cloudpathlib<0.17.0,>=0.7.0 in /usr/local/lib/python3.10/dist-packages (from weasel<0.4.0,>=0.1.0->spacy) (0.16.0)\n",
            "Requirement already satisfied: MarkupSafe>=2.0 in /usr/local/lib/python3.10/dist-packages (from jinja2->spacy) (2.1.5)\n",
            "Collecting en-core-web-sm==3.7.1\n",
            "  Downloading https://github.com/explosion/spacy-models/releases/download/en_core_web_sm-3.7.1/en_core_web_sm-3.7.1-py3-none-any.whl (12.8 MB)\n",
            "\u001b[2K     \u001b[90m━━━━━━━━━━━━━━━━━━━━━━━━━━━━━━━━━━━━━━━━\u001b[0m \u001b[32m12.8/12.8 MB\u001b[0m \u001b[31m24.4 MB/s\u001b[0m eta \u001b[36m0:00:00\u001b[0m\n",
            "\u001b[?25hRequirement already satisfied: spacy<3.8.0,>=3.7.2 in /usr/local/lib/python3.10/dist-packages (from en-core-web-sm==3.7.1) (3.7.4)\n",
            "Requirement already satisfied: spacy-legacy<3.1.0,>=3.0.11 in /usr/local/lib/python3.10/dist-packages (from spacy<3.8.0,>=3.7.2->en-core-web-sm==3.7.1) (3.0.12)\n",
            "Requirement already satisfied: spacy-loggers<2.0.0,>=1.0.0 in /usr/local/lib/python3.10/dist-packages (from spacy<3.8.0,>=3.7.2->en-core-web-sm==3.7.1) (1.0.5)\n",
            "Requirement already satisfied: murmurhash<1.1.0,>=0.28.0 in /usr/local/lib/python3.10/dist-packages (from spacy<3.8.0,>=3.7.2->en-core-web-sm==3.7.1) (1.0.10)\n",
            "Requirement already satisfied: cymem<2.1.0,>=2.0.2 in /usr/local/lib/python3.10/dist-packages (from spacy<3.8.0,>=3.7.2->en-core-web-sm==3.7.1) (2.0.8)\n",
            "Requirement already satisfied: preshed<3.1.0,>=3.0.2 in /usr/local/lib/python3.10/dist-packages (from spacy<3.8.0,>=3.7.2->en-core-web-sm==3.7.1) (3.0.9)\n",
            "Requirement already satisfied: thinc<8.3.0,>=8.2.2 in /usr/local/lib/python3.10/dist-packages (from spacy<3.8.0,>=3.7.2->en-core-web-sm==3.7.1) (8.2.3)\n",
            "Requirement already satisfied: wasabi<1.2.0,>=0.9.1 in /usr/local/lib/python3.10/dist-packages (from spacy<3.8.0,>=3.7.2->en-core-web-sm==3.7.1) (1.1.2)\n",
            "Requirement already satisfied: srsly<3.0.0,>=2.4.3 in /usr/local/lib/python3.10/dist-packages (from spacy<3.8.0,>=3.7.2->en-core-web-sm==3.7.1) (2.4.8)\n",
            "Requirement already satisfied: catalogue<2.1.0,>=2.0.6 in /usr/local/lib/python3.10/dist-packages (from spacy<3.8.0,>=3.7.2->en-core-web-sm==3.7.1) (2.0.10)\n",
            "Requirement already satisfied: weasel<0.4.0,>=0.1.0 in /usr/local/lib/python3.10/dist-packages (from spacy<3.8.0,>=3.7.2->en-core-web-sm==3.7.1) (0.3.4)\n",
            "Requirement already satisfied: typer<0.10.0,>=0.3.0 in /usr/local/lib/python3.10/dist-packages (from spacy<3.8.0,>=3.7.2->en-core-web-sm==3.7.1) (0.9.4)\n",
            "Requirement already satisfied: smart-open<7.0.0,>=5.2.1 in /usr/local/lib/python3.10/dist-packages (from spacy<3.8.0,>=3.7.2->en-core-web-sm==3.7.1) (6.4.0)\n",
            "Requirement already satisfied: tqdm<5.0.0,>=4.38.0 in /usr/local/lib/python3.10/dist-packages (from spacy<3.8.0,>=3.7.2->en-core-web-sm==3.7.1) (4.66.2)\n",
            "Requirement already satisfied: requests<3.0.0,>=2.13.0 in /usr/local/lib/python3.10/dist-packages (from spacy<3.8.0,>=3.7.2->en-core-web-sm==3.7.1) (2.31.0)\n",
            "Requirement already satisfied: pydantic!=1.8,!=1.8.1,<3.0.0,>=1.7.4 in /usr/local/lib/python3.10/dist-packages (from spacy<3.8.0,>=3.7.2->en-core-web-sm==3.7.1) (2.7.0)\n",
            "Requirement already satisfied: jinja2 in /usr/local/lib/python3.10/dist-packages (from spacy<3.8.0,>=3.7.2->en-core-web-sm==3.7.1) (3.1.3)\n",
            "Requirement already satisfied: setuptools in /usr/local/lib/python3.10/dist-packages (from spacy<3.8.0,>=3.7.2->en-core-web-sm==3.7.1) (67.7.2)\n",
            "Requirement already satisfied: packaging>=20.0 in /usr/local/lib/python3.10/dist-packages (from spacy<3.8.0,>=3.7.2->en-core-web-sm==3.7.1) (24.0)\n",
            "Requirement already satisfied: langcodes<4.0.0,>=3.2.0 in /usr/local/lib/python3.10/dist-packages (from spacy<3.8.0,>=3.7.2->en-core-web-sm==3.7.1) (3.3.0)\n",
            "Requirement already satisfied: numpy>=1.19.0 in /usr/local/lib/python3.10/dist-packages (from spacy<3.8.0,>=3.7.2->en-core-web-sm==3.7.1) (1.25.2)\n",
            "Requirement already satisfied: annotated-types>=0.4.0 in /usr/local/lib/python3.10/dist-packages (from pydantic!=1.8,!=1.8.1,<3.0.0,>=1.7.4->spacy<3.8.0,>=3.7.2->en-core-web-sm==3.7.1) (0.6.0)\n",
            "Requirement already satisfied: pydantic-core==2.18.1 in /usr/local/lib/python3.10/dist-packages (from pydantic!=1.8,!=1.8.1,<3.0.0,>=1.7.4->spacy<3.8.0,>=3.7.2->en-core-web-sm==3.7.1) (2.18.1)\n",
            "Requirement already satisfied: typing-extensions>=4.6.1 in /usr/local/lib/python3.10/dist-packages (from pydantic!=1.8,!=1.8.1,<3.0.0,>=1.7.4->spacy<3.8.0,>=3.7.2->en-core-web-sm==3.7.1) (4.11.0)\n",
            "Requirement already satisfied: charset-normalizer<4,>=2 in /usr/local/lib/python3.10/dist-packages (from requests<3.0.0,>=2.13.0->spacy<3.8.0,>=3.7.2->en-core-web-sm==3.7.1) (3.3.2)\n",
            "Requirement already satisfied: idna<4,>=2.5 in /usr/local/lib/python3.10/dist-packages (from requests<3.0.0,>=2.13.0->spacy<3.8.0,>=3.7.2->en-core-web-sm==3.7.1) (3.7)\n",
            "Requirement already satisfied: urllib3<3,>=1.21.1 in /usr/local/lib/python3.10/dist-packages (from requests<3.0.0,>=2.13.0->spacy<3.8.0,>=3.7.2->en-core-web-sm==3.7.1) (2.0.7)\n",
            "Requirement already satisfied: certifi>=2017.4.17 in /usr/local/lib/python3.10/dist-packages (from requests<3.0.0,>=2.13.0->spacy<3.8.0,>=3.7.2->en-core-web-sm==3.7.1) (2024.2.2)\n",
            "Requirement already satisfied: blis<0.8.0,>=0.7.8 in /usr/local/lib/python3.10/dist-packages (from thinc<8.3.0,>=8.2.2->spacy<3.8.0,>=3.7.2->en-core-web-sm==3.7.1) (0.7.11)\n",
            "Requirement already satisfied: confection<1.0.0,>=0.0.1 in /usr/local/lib/python3.10/dist-packages (from thinc<8.3.0,>=8.2.2->spacy<3.8.0,>=3.7.2->en-core-web-sm==3.7.1) (0.1.4)\n",
            "Requirement already satisfied: click<9.0.0,>=7.1.1 in /usr/local/lib/python3.10/dist-packages (from typer<0.10.0,>=0.3.0->spacy<3.8.0,>=3.7.2->en-core-web-sm==3.7.1) (8.1.7)\n",
            "Requirement already satisfied: cloudpathlib<0.17.0,>=0.7.0 in /usr/local/lib/python3.10/dist-packages (from weasel<0.4.0,>=0.1.0->spacy<3.8.0,>=3.7.2->en-core-web-sm==3.7.1) (0.16.0)\n",
            "Requirement already satisfied: MarkupSafe>=2.0 in /usr/local/lib/python3.10/dist-packages (from jinja2->spacy<3.8.0,>=3.7.2->en-core-web-sm==3.7.1) (2.1.5)\n",
            "\u001b[38;5;2m✔ Download and installation successful\u001b[0m\n",
            "You can now load the package via spacy.load('en_core_web_sm')\n",
            "\u001b[38;5;3m⚠ Restart to reload dependencies\u001b[0m\n",
            "If you are in a Jupyter or Colab notebook, you may need to restart Python in\n",
            "order to load all the package's dependencies. You can do this by selecting the\n",
            "'Restart kernel' or 'Restart runtime' option.\n"
          ]
        }
      ],
      "source": [
        "# @title\n",
        "current_dir =  \"/content/gdrive/My Drive/Colab Notebooks/Thesis/Clustering\"\n",
        "import os\n",
        "import glob\n",
        "import numpy as np\n",
        "import pickle\n",
        "import spacy\n",
        "import re\n",
        "import pickle\n",
        "from collections import defaultdict\n",
        "\n",
        "\n",
        "os.chdir(current_dir)\n",
        "\n",
        "!pip install -U spacy\n",
        "!python -m spacy download en_core_web_sm\n",
        "# Load English tokenizer, tagger, parser and NER\n",
        "nlp = spacy.load(\"en_core_web_sm\")"
      ]
    },
    {
      "cell_type": "markdown",
      "source": [
        "# Get Psychopath Texts and Control Texts"
      ],
      "metadata": {
        "id": "YGiKYUza8RMC"
      }
    },
    {
      "cell_type": "code",
      "execution_count": 276,
      "metadata": {
        "id": "im3uUVgsVyTx",
        "colab": {
          "base_uri": "https://localhost:8080/"
        },
        "outputId": "2dce3811-758e-4677-b075-b1c2d05a39a1"
      },
      "outputs": [
        {
          "output_type": "stream",
          "name": "stdout",
          "text": [
            "wayne\n",
            "carl\n",
            "bundy\n",
            "bernardo\n",
            "dahmer\n",
            "gacy\n",
            "kemper\n",
            "mitchell\n",
            "ridgeway\n",
            "bennett\n",
            "sells\n",
            "bittaker\n",
            "marsh\n",
            "manson\n",
            "fastow\n",
            "skilling\n",
            "madoff\n",
            "maxwell\n",
            "dunlap\n",
            "murdoch\n",
            "bankmanfried\n",
            "lay\n",
            "ebbers\n",
            "jfk\n",
            "reagan\n",
            "fdr\n",
            "clinton\n",
            "gwb\n",
            "eisenhower\n",
            "lbj\n",
            "ford\n",
            "carter\n",
            "hwb\n",
            "truman\n",
            "hoover\n",
            "cruz\n",
            "sanders\n",
            "trump\n",
            "nixon\n"
          ]
        }
      ],
      "source": [
        "import re\n",
        "# @title\n",
        "directories = [\n",
        "    \"/content/gdrive/My Drive/Colab Notebooks/Thesis/murderers\",\n",
        "    \"/content/gdrive/My Drive/Colab Notebooks/Thesis/corporate\",\n",
        "    \"/content/gdrive/My Drive/Colab Notebooks/Thesis/politicians\",\n",
        "]\n",
        "\n",
        "\n",
        "psych_texts = {}\n",
        "\n",
        "# Iterate over each directory\n",
        "for directory in directories:\n",
        "    # List all files in the directory\n",
        "    files = os.listdir(directory)\n",
        "    # Filter out only the .txt files\n",
        "    txt_files = [file for file in files if file.endswith('.txt')]\n",
        "    # Now you can work with each .txt file in this directory\n",
        "    for txt_file in txt_files:\n",
        "        # Open each .txt file\n",
        "        with open(os.path.join(directory, txt_file), 'r') as file:\n",
        "            # Read the contents of the file\n",
        "            content = file.read()\n",
        "            # Do whatever you need with the content\n",
        "        txt_file = re.split('_|\\.', txt_file)[0]\n",
        "        psych_texts[txt_file] = content\n",
        "        print(txt_file)"
      ]
    },
    {
      "cell_type": "code",
      "execution_count": 277,
      "metadata": {
        "id": "N8TCSr4SDIIj",
        "colab": {
          "base_uri": "https://localhost:8080/"
        },
        "outputId": "c701f59e-ac2e-45c4-abe9-8851230cfbaf"
      },
      "outputs": [
        {
          "output_type": "stream",
          "name": "stdout",
          "text": [
            "1101\n",
            "1001\n",
            "1501\n",
            "0601\n",
            "0301\n",
            "1301\n",
            "2301\n",
            "1901\n",
            "2401\n",
            "2201\n",
            "2801\n",
            "2901\n",
            "3001\n",
            "3601\n",
            "3301\n",
            "3501\n",
            "3401\n",
            "3201\n",
            "3801\n",
            "4001\n"
          ]
        }
      ],
      "source": [
        "# @title\n",
        "control_dir = \"/content/gdrive/My Drive/Colab Notebooks/Thesis/control\"\n",
        "files = os.listdir(control_dir)\n",
        "# Filter out only the .txt files\n",
        "control_txts = [file for file in files if file.endswith('.txt')]\n",
        "\n",
        "users = defaultdict(list)\n",
        "\n",
        "for txt_file in control_txts:\n",
        "        id = re.findall(r'\\d\\d\\d\\d', txt_file)[0]\n",
        "        # Open each .txt file\n",
        "        with open(os.path.join(control_dir, txt_file), 'r') as file:\n",
        "            # Read the contents of the file\n",
        "            content = file.read()\n",
        "            # Do whatever you need with the content\n",
        "        users[id].append(content)\n",
        "\n",
        "\n",
        "def extract_controls(text):\n",
        "    # Remove everything between <IVER> and <IVER>, including the markers themselves\n",
        "    cleaned_text = re.sub(r'<IVER>.*?<IVER>', '', text, flags=re.DOTALL)\n",
        "\n",
        "    # Remove all remaining angle brackets and any characters between them\n",
        "    cleaned_text = re.sub(r'<[^>]*>', '', cleaned_text)\n",
        "\n",
        "    # Remove duplicate spaces\n",
        "    cleaned_text = re.sub(r'\\s+', ' ', cleaned_text)\n",
        "\n",
        "    return cleaned_text\n",
        "\n",
        "\n",
        "control_texts = {} #collect the extracted control texts\n",
        "for id, texts in users.items():\n",
        "  control_texts[id] = extract_controls(\" \".join(texts))\n",
        "  print(id)\n",
        "\n"
      ]
    },
    {
      "cell_type": "code",
      "source": [
        "print(control_texts.keys())\n",
        "print(psych_texts.keys())\n",
        "\n",
        "combine = {} #combine psych texts and control texts with id's as keys\n",
        "combine.update(control_texts)\n",
        "combine.update(psych_texts)"
      ],
      "metadata": {
        "colab": {
          "base_uri": "https://localhost:8080/"
        },
        "id": "Zjg10nFPFkHG",
        "outputId": "2c77f446-8242-497d-f0a6-be626597ff6e"
      },
      "execution_count": 278,
      "outputs": [
        {
          "output_type": "stream",
          "name": "stdout",
          "text": [
            "dict_keys(['1101', '1001', '1501', '0601', '0301', '1301', '2301', '1901', '2401', '2201', '2801', '2901', '3001', '3601', '3301', '3501', '3401', '3201', '3801', '4001'])\n",
            "dict_keys(['wayne', 'carl', 'bundy', 'bernardo', 'dahmer', 'gacy', 'kemper', 'mitchell', 'ridgeway', 'bennett', 'sells', 'bittaker', 'marsh', 'manson', 'fastow', 'skilling', 'madoff', 'maxwell', 'dunlap', 'murdoch', 'bankmanfried', 'lay', 'ebbers', 'jfk', 'reagan', 'fdr', 'clinton', 'gwb', 'eisenhower', 'lbj', 'ford', 'carter', 'hwb', 'truman', 'hoover', 'cruz', 'sanders', 'trump', 'nixon'])\n"
          ]
        }
      ]
    },
    {
      "cell_type": "markdown",
      "source": [
        "## Preprocessing"
      ],
      "metadata": {
        "id": "ab2JgLPlI9Pr"
      }
    },
    {
      "cell_type": "code",
      "source": [
        "import re\n",
        "import string\n",
        "import spacy\n",
        "\n",
        "# Load your spaCy model here, you can change this to any model you prefer\n",
        "nlp = spacy.load('en_core_web_sm')\n",
        "\n",
        "class TextProcessor:\n",
        "    def __init__(self):\n",
        "        # Dictionary of contractions and their replacements\n",
        "        self.contractions = {\n",
        "            r\"\\bwanna\\b\": \"want to\",\n",
        "            r\"\\bhafta\\b\": \"have to\",\n",
        "            r\"\\bkinda\\b\": \"kind of\",\n",
        "            r\"\\byknow\\b\": \"you know\",\n",
        "            r\"\\buseta\\b\": \"used to\",\n",
        "            r\"\\bsorta\\b\": \"sort of\",\n",
        "        }\n",
        "        self.modified_punctuation = string.punctuation.replace(\"'\", \"\")\n",
        "\n",
        "    def replace_contractions(self, text):\n",
        "        # Replace each contraction with its corresponding replacement\n",
        "        for contraction, replacement in self.contractions.items():\n",
        "            text = re.sub(contraction, replacement, text)\n",
        "        return text\n",
        "\n",
        "    def custom_tokenize(self, text):\n",
        "        doc = nlp(text)\n",
        "        hits = []\n",
        "        for token in doc:\n",
        "            pos = token.pos_\n",
        "            text = token.text.lower()\n",
        "            lemma = token.lemma_\n",
        "            if pos == \"NUM\":\n",
        "                hits.append(f\"{pos}_{pos}\")\n",
        "            elif pos == 'DET' and text == 'a':\n",
        "                hits.append(\"an_DET\")\n",
        "            else:\n",
        "                hits.append(f\"{lemma}_{pos}\")\n",
        "        return hits\n",
        "\n",
        "    def preprocess(self, text):\n",
        "        # Remove unwanted punctuation\n",
        "        clean_text = ''.join(char for char in text if char not in self.modified_punctuation)\n",
        "        # Replace newline characters with spaces\n",
        "        clean_text = clean_text.replace(\"\\n\", \" \")\n",
        "        # Replace multiple spaces with a single space\n",
        "        clean_text = ' '.join(clean_text.split())\n",
        "        clean_text = self.replace_contractions(clean_text)\n",
        "        return self.custom_tokenize(clean_text)\n",
        "\n",
        "\n",
        "\n",
        "processor = TextProcessor() #instantiate\n",
        "clean_data = {k: processor.preprocess(v) for k,v in combine.items()} #clean\n",
        "\n",
        "print(clean_data.keys())\n"
      ],
      "metadata": {
        "id": "nDA_ewPkbDYz",
        "colab": {
          "base_uri": "https://localhost:8080/"
        },
        "outputId": "0c634560-bc02-4ebf-83c6-0fb91e7061a0",
        "collapsed": true
      },
      "execution_count": 279,
      "outputs": [
        {
          "output_type": "stream",
          "name": "stdout",
          "text": [
            "dict_keys(['1101', '1001', '1501', '0601', '0301', '1301', '2301', '1901', '2401', '2201', '2801', '2901', '3001', '3601', '3301', '3501', '3401', '3201', '3801', '4001', 'wayne', 'carl', 'bundy', 'bernardo', 'dahmer', 'gacy', 'kemper', 'mitchell', 'ridgeway', 'bennett', 'sells', 'bittaker', 'marsh', 'manson', 'fastow', 'skilling', 'madoff', 'maxwell', 'dunlap', 'murdoch', 'bankmanfried', 'lay', 'ebbers', 'jfk', 'reagan', 'fdr', 'clinton', 'gwb', 'eisenhower', 'lbj', 'ford', 'carter', 'hwb', 'truman', 'hoover', 'cruz', 'sanders', 'trump', 'nixon'])\n"
          ]
        }
      ]
    },
    {
      "cell_type": "code",
      "source": [
        "print([i for i in clean_data.values()][0:2])"
      ],
      "metadata": {
        "colab": {
          "base_uri": "https://localhost:8080/"
        },
        "id": "5cELK_kZ7yOi",
        "outputId": "3865951b-284a-4bd0-c240-981d5067aa79"
      },
      "execution_count": 280,
      "outputs": [
        {
          "output_type": "stream",
          "name": "stdout",
          "text": [
            "[['it_PRON', 'be_AUX', 'like_INTJ', 'right_INTJ', 'yeah_INTJ', 'and_CCONJ', 'it_PRON', 'be_AUX', 'uh_INTJ', 'and_CCONJ', 'it_PRON', 'be_AUX', 'not_PART', 'too_ADV', 'bad_ADJ', 'because_SCONJ', 'I_PRON', 'have_VERB', 'to_PART', 'scratch_VERB', 'off_ADP', 'your_PRON', 'ticket_NOUN', 'you_PRON', 'give_VERB', 'I_PRON', 'yeah_INTJ', 'they_PRON', 'will_AUX', 'not_PART', 'bother_VERB', 'it_PRON', 'green_ADJ', 'bay_PROPN', 'packer_NOUN', 'oh_INTJ', 'my_INTJ', 'gosh_INTJ', 'yeah_INTJ', 'they_PRON', 'go_VERB', 'and_CCONJ', 'win_VERB', 'the_DET', 'super_ADJ', 'bowl_NOUN', 'and_CCONJ', 'they_PRON', 'go_VERB', 'back_ADV', 'and_CCONJ', 'lose_VERB', 'the_DET', 'super_ADJ', 'bowl_NOUN', 'so_ADV', 'just_ADV', 'watch_VERB', 'it_PRON', 'and_CCONJ', 'uh_INTJ', 'you_PRON', 'know_VERB', 'they_PRON', 'lose_VERB', 'yesterday_NOUN', 'yeah_INTJ', 'so_ADV', 'where_SCONJ', 'be_AUX', 'you_PRON', 'out_ADP', 'of_ADP', 'uh_INTJ', 'overseas_ADJ', 'oh_INTJ', 'man_NOUN', 'by_ADP', 'time_NOUN', 'you_PRON', 'get_VERB', 'there_ADV', 'you_PRON', 'be_AUX', 'all_PRON', 'lag_VERB', 'out_ADP', 'and_CCONJ', 'man_NOUN', 'I_PRON', 'would_AUX', 'like_VERB', 'to_PART', 'go_VERB', 'out_ADV', 'there_ADV', 'overseas_ADV', 'somewhere_ADV', 'yeah_INTJ', 'be_AUX', 'NUM_NUM', 'I_PRON', 'do_AUX', 'not_PART', 'really_ADV', 'know_VERB', 'anything_PRON', 'heart_NOUN', 'attack_NOUN', 'eat_VERB', 'too_ADV', 'much_ADJ', 'of_ADP', 'that_DET', 'good_ADJ', 'stuff_NOUN', 'of_ADP', 'the_DET', 'time_NOUN', 'and_CCONJ', 'memory_NOUN', 'and_CCONJ', 'stuff_NOUN', 'yeah_INTJ', 'I_PRON', 'have_VERB', 'an_DET', 'brother_NOUN', 'and_CCONJ', 'NUM_NUM', 'sister_NOUN', 'kind_ADV', 'of_ADP', 'balance_NOUN', 'the_DET', 'brother_NOUN', 'out_ADP', 'an_DET', 'little_ADJ', 'bit_NOUN', 'yeah_INTJ', 'so_ADV', 'I_PRON', 'get_VERB', 'an_DET', 'lot_NOUN', 'of_ADP', 'you_PRON', 'know_VERB', 'what_PRON', 'from_ADP', 'my_PRON', 'sister_NOUN', 'yeah_INTJ', 'no_INTJ', 'oh_INTJ', 'man_NOUN', 'that_PRON', 'be_AUX', 'not_PART', 'right_ADV', 'now_ADV', 'I_PRON', 'be_AUX', 'kind_ADV', 'of_ADV', 'job_NOUN', 'motivate_VERB', 'that_PRON', 'would_AUX', 'just_ADV', 'you_PRON', 'know_VERB', 'send_VERB', 'I_PRON', 'into_ADP', 'the_DET', 'new_ADJ', 'millennium_NOUN', 'or_CCONJ', 'whatever_PRON', 'you_PRON', 'want_VERB', 'to_PART', 'yeah_INTJ', 'my_PRON', 'NUM_NUM', 'sister_NOUN', 'my_PRON', 'old_ADJ', 'sister_NOUN', 'she_PRON', 'be_AUX', 'uh_INTJ', 'get_VERB', 'NUM_NUM', 'son_NOUN', 'he_PRON', 'be_AUX', 'yeah_INTJ', 'and_CCONJ', 'get_VERB', 'more_ADJ', 'people_NOUN', 'to_PART', 'buy_VERB', 'present_NOUN', 'for_ADP', 'though_SCONJ', 'well_INTJ', 'I_PRON', 'it_PRON', 'really_ADV', 'do_AUX', 'not_PART', 'look_VERB', 'like_INTJ', 'I_PRON', 'mean_VERB', 'yeah_INTJ', 'avoid_VERB', 'mistake_NOUN', 'be_AUX', 'pretty_ADV', 'much_ADV', 'what_PRON', 'they_PRON', 'need_VERB', 'to_PART', 'do_VERB', 'well_ADJ', 'decision_NOUN', 'would_AUX', 'help_VERB', 'no_DET', 'I_PRON', 'be_AUX', 'I_PRON', 'be_AUX', 'not_PART', 'really_ADV', 'up_ADV', 'on_ADP', 'the_DET', 'coaching_NOUN', 'thing_NOUN', 'I_PRON', 'mean_VERB', 'anybody_PRON', 'can_AUX', 'coach_VERB', 'an_DET', 'game_NOUN', 'it_PRON', 'take_VERB', 'player_NOUN', 'to_PART', 'play_VERB', 'the_DET', 'game_NOUN', 'yeah_INTJ', 'I_PRON', 'I_PRON', 'like_VERB', 'uh_INTJ', 'football_NOUN', 'and_CCONJ', 'pool_NOUN', 'pretty_ADV', 'much_ADV', 'anywhere_ADV', 'in_ADP', 'delaware_PROPN', 'that_PRON', 'I_PRON', 'can_AUX', 'find_VERB', 'I_PRON', 'be_AUX', 'rusty_ADJ', 'yeah_INTJ', 'no_INTJ', 'we_PRON', 'use_VERB', 'to_PART', 'do_VERB', 'uh_INTJ', 'NUM_NUM', 'cent_NOUN', 'you_PRON', 'know_VERB', 'an_DET', 'game_NOUN', 'you_PRON', 'know_VERB', 'just_ADV', 'to_PART', 'win_VERB', 'back_ADP', 'the_DET', 'quarter_NOUN', 'and_CCONJ', 'plop_VERB', 'they_PRON', 'in_ADP', 'you_PRON', 'know_VERB', 'not_PART', 'too_ADV', 'much_ADJ', 'gambling_NOUN', 'on_ADP', 'that_DET', 'part_NOUN', 'yeah_INTJ', 'I_PRON', 'uh_INTJ', 'I_PRON', 'make_VERB', 'side_ADJ', 'little_ADJ', 'side_NOUN', 'bet_NOUN', 'not_PART', 'necessarily_ADV', 'money_NOUN', 'you_PRON', 'know_VERB', 'just_ADV', 'ha_INTJ', 'ha_INTJ', 'for_ADP', 'fun_NOUN', 'sometimes_ADV', 'I_PRON', 'do_AUX', 'get_VERB', 'money_NOUN', 'for_ADP', 'it_PRON', 'though_ADV', 'be_AUX', 'not_PART', 'too_ADV', 'bad_ADJ', 'I_PRON', 'mean_VERB', 'you_PRON', 'know_VERB', 'it_PRON', 'be_AUX', 'not_PART', 'like_ADP', 'some_DET', 'kind_NOUN', 'of_ADP', 'racketeering_NOUN', 'deal_NOUN', 'bug_NOUN', 'the_DET', 'room_NOUN', 'yeah_INTJ', 'it_PRON', 'have_AUX', 'not_PART', 'it_PRON', 'have_AUX', 'not_PART', 'go_VERB', 'far_ADV', 'as_ADP', 'loan_NOUN', 'sharking_NOUN', 'but_CCONJ', 'you_PRON', 'know_VERB', 'the_DET', 'the_DET', 'thing_NOUN', 'of_ADP', 'it_PRON', 'be_AUX', 'it_PRON', 'be_AUX', 'fun_NOUN', 'when_SCONJ', 'you_PRON', 'win_VERB', 'and_CCONJ', 'it_PRON', 'be_AUX', 'still_ADV', 'fun_ADJ', 'when_SCONJ', 'you_PRON', 'lose_VERB', 'I_PRON', 'mean_VERB', 'you_PRON', 'know_VERB', 'just_ADV', 'you_PRON', 'know_VERB', 'the_DET', 'crime_NOUN', 'you_PRON', 'can_AUX', 'not_PART', 'really_ADV', 'stop_VERB', 'and_CCONJ', 'other_ADJ', 'thing_NOUN', 'that_PRON', 'happen_VERB', 'just_ADV', 'you_PRON', 'know_VERB', 'too_ADV', 'much_ADJ', 'partying_NOUN', 'around_ADP', 'I_PRON', 'mean_VERB', 'that_PRON', 'be_AUX', 'why_SCONJ', 'I_PRON', 'leave_VERB', 'twelfth_ADJ', 'because_SCONJ', 'I_PRON', 'could_AUX', 'not_PART', 'you_PRON', 'know_VERB', 'but_CCONJ', 'you_PRON', 'know_VERB', 'just_ADV', 'everybody_PRON', 'uh_INTJ', 'the_DET', 'neighbor_NOUN', 'be_AUX', 'loud_ADJ', 'and_CCONJ', 'everything_PRON', 'and_CCONJ', 'my_PRON', 'mom_NOUN', \"'s_PART\", 'old_ADJ', 'so_SCONJ', 'she_PRON', 'can_AUX', 'not_PART', 'really_ADV', 'put_VERB', 'up_ADP', 'with_ADP', 'any_PRON', 'of_ADP', 'that_PRON', 'and_CCONJ', 'yeah_INTJ', 'they_PRON', 'be_AUX', 'burn_VERB', 'couch_NOUN', 'and_CCONJ', 'uh_INTJ', 'over_ADV', 'by_ADP', 'pearl_PROPN', 'alley_NOUN', 'they_PRON', 'be_AUX', 'actually_ADV', 'roll_VERB', 'an_DET', 'volkswagen_NOUN', 'down_ADP', 'the_DET', 'man_NOUN', 'there_PRON', 'be_VERB', 'all_DET', 'kind_NOUN', 'of_ADP', 'people_NOUN', 'do_VERB', 'it_PRON', 'yeah_INTJ', 'oh_INTJ', 'that_PRON', 'be_AUX', 'an_DET', 'football_NOUN', 'game_NOUN', 'deal_NOUN', 'I_PRON', 'have_VERB', 'to_PART', 'pack_VERB', 'it_PRON', 'up_ADP', 'well_ADV', 'yeah_INTJ', 'it_PRON', 'be_AUX', 'I_PRON', 'just_ADV', 'give_VERB', 'you_PRON', 'an_DET', 'rough_ADJ', 'estimate_NOUN', 'of_ADP', 'uh_INTJ', 'NUM_NUM', 'and_CCONJ', 'an_DET', 'half_NOUN', 'mile_NOUN', 'from_ADP', 'here_ADV', 'yeah_INTJ', 'it_PRON', 'get_VERB', 'bore_VERB', 'it_PRON', 'get_VERB', 'frustrating_ADJ', 'because_SCONJ', 'we_PRON', 'uh_INTJ', 'you_PRON', 'get_VERB', 'these_DET', 'new_ADJ', 'people_NOUN', 'move_VERB', 'in_ADV', 'and_CCONJ', 'you_PRON', 'know_VERB', 'you_PRON', 'be_AUX', 'use_VERB', 'to_ADP', 'everything_PRON', 'be_AUX', 'nice_ADJ', 'you_PRON', 'know_VERB', 'and_CCONJ', 'then_ADV', 'get_VERB', 'people_NOUN', 'next_ADJ', 'door_NOUN', 'break_VERB', 'into_ADP', 'you_PRON', 'or_CCONJ', 'upstairs_ADV', 'from_ADP', 'you_PRON', 'break_VERB', 'into_ADP', 'each_PRON', 'just_ADV', 'it_PRON', 'seem_VERB', 'like_ADP', 'it_PRON', 'just_ADV', 'about_ADV', 'everywhere_ADV', 'on_ADP', 'that_DET', 'street_NOUN', 'be_AUX', 'uh_INTJ', 'NUM_NUM', 'way_NOUN', 'or_CCONJ', 'another_DET', 'criminal_NOUN', 'you_PRON', 'know_VERB', 'just_ADV', 'apartment_NOUN', 'we_PRON', 'be_AUX', 'live_VERB', 'it_PRON', 'be_AUX', 'just_ADV', 'god_PROPN', 'I_PRON', 'mean_VERB', 'seem_VERB', 'like_ADP', 'an_DET', 'NUM_NUM', 'year_NOUN', 'old_ADJ', 'no_ADV', 'over_ADV', 'on_ADP', 'um_INTJ', 'beulah_NOUN', 'you_PRON', 'know_VERB', 'where_SCONJ', 'that_PRON', 'over_ADV', 'by_ADP', 'north_NOUN', 'broadway_ADV', 'where_SCONJ', 'I_PRON', 'say_VERB', 'yeah_INTJ', 'it_PRON', 'be_AUX', 'it_PRON', 'be_AUX', 'an_DET', 'change_NOUN', 'of_ADP', 'pace_NOUN', 'and_CCONJ', 'plus_CCONJ', 'be_AUX', 'around_ADP', 'my_PRON', 'sister_NOUN', 'instead_ADV', 'of_ADP', 'you_PRON', 'know_VERB', 'take_VERB', 'an_DET', 'NUM_NUM', 'mile_NOUN', 'lag_NOUN', 'all_DET', 'the_DET', 'way_NOUN', 'out_ADV', 'there_ADV', 'just_ADV', 'go_VERB', 'an_DET', 'couple_NOUN', 'block_NOUN', 'over_ADV', 'and_CCONJ', 'there_ADV', 'she_PRON', 'be_AUX', 'oh_INTJ', 'I_PRON', 'can_AUX', 'whip_VERB', 'up_ADP', 'an_DET', 'mean_ADJ', 'fish_NOUN', 'especially_ADV', 'when_SCONJ', 'I_PRON', 'go_VERB', 'out_ADP', 'we_PRON', 'be_AUX', 'close_ADJ', 'to_ADP', 'the_DET', 'fishing_NOUN', 'area_NOUN', 'now_ADV', 'I_PRON', 'catch_VERB', 'dinner_NOUN', 'the_DET', 'other_ADJ', 'night_NOUN', 'and_CCONJ', 'uh_INTJ', 'heck_INTJ', 'just_ADV', 'about_ADP', 'anything_PRON', 'I_PRON', 'can_AUX', 'I_PRON', 'would_AUX', 'like_VERB', 'to_PART', 'get_VERB', 'an_DET', 'patent_NOUN', 'on_ADP', 'an_DET', 'certain_ADJ', 'kind_NOUN', 'of_ADP', 'omelet_NOUN', 'I_PRON', 'be_AUX', 'not_PART', 'go_VERB', 'to_ADP', 'you_PRON', 'know_VERB', 'yeah_INTJ', 'it_PRON', 'be_AUX', 'an_DET', 'good_ADJ', 'grow_VERB', 'area_NOUN', 'the_DET', 'job_NOUN', 'prospect_NOUN', 'be_AUX', 'um_INTJ', 'little_ADJ', 'scarce_ADJ', 'you_PRON', 'know_VERB', 'because_SCONJ', 'the_DET', 'small_ADJ', 'town_NOUN', 'but_CCONJ', 'yeah_INTJ', 'there_PRON', 'be_VERB', 'only_ADV', 'about_ADP', 'an_DET', 'NUM_NUM', 'percent_NOUN', 'unemployment_NOUN', 'rate_NOUN', 'there_ADV', 'yeah_INTJ', 'westland_NOUN', 'that_PRON', 'be_AUX', 'up_ADV', 'in_ADP', 'delaware_PROPN', 'and_CCONJ', 'uh_INTJ', 'most_ADJ', 'of_ADP', 'they_PRON', 'that_PRON', 'I_PRON', 'talk_VERB', 'to_ADP', 'you_PRON', 'know_VERB', 'I_PRON', 'have_AUX', 'not_PART', 'be_AUX', 'there_ADV', 'an_DET', 'while_NOUN', 'so_ADV', 'I_PRON', 'have_AUX', 'not_PART', 'really_ADV', 'talk_VERB', 'to_ADP', 'an_DET', 'whole_ADJ', 'population_NOUN', 'of_ADP', 'student_NOUN', 'but_CCONJ', 'the_DET', 'one_NOUN', 'I_PRON', 'do_AUX', 'talk_VERB', 'to_ADP', 'even_ADV', 'they_PRON', 'be_AUX', 'you_PRON', 'know_VERB', 'professor_NOUN', 'and_CCONJ', 'whatever_PRON', 'they_PRON', 'be_AUX', 'major_VERB', 'in_ADP', 'we_PRON', 'be_AUX', 'out_ADP', 'you_PRON', 'know_VERB', 'and_CCONJ', 'hang_VERB', 'out_ADP', 'at_ADP', 'the_DET', 'bar_NOUN', 'they_PRON', 'be_AUX', 'do_VERB', 'karaoke_NOUN', 'oh_INTJ', 'man_NOUN', 'you_PRON', 'should_AUX', \"'ve_AUX\", 'see_VERB', 'they_PRON', 'do_AUX', 'hang_VERB', 'on_ADP', 'yeah_INTJ', 'most_ADJ', 'of_ADP', 'they_PRON', 'yeah_INTJ', 'most_ADJ', 'of_ADP', 'they_PRON', 'do_AUX', 'you_PRON', 'know_VERB', 'and_CCONJ', 'then_ADV', 'you_PRON', 'know_VERB', 'pretty_ADV', 'much_ADV', 'the_DET', 'rest_NOUN', 'of_ADP', 'they_PRON', 'just_ADV', 'hang_VERB', 'out_ADP', 'go_VERB', 'to_ADP', 'school_NOUN', 'yeah_INTJ', 'most_ADJ', 'they_PRON', 'think_VERB', 'the_DET', 'freshman_NOUN', 'class_NOUN', 'just_ADV', 'ride_VERB', 'along_ADP', 'I_PRON', 'think_VERB', 'the_DET', 'freshman_NOUN', 'would_AUX', 'be_AUX', 'little_ADJ', 'bit_NOUN', 'tough_ADJ', 'you_PRON', 'know_VERB', 'it_PRON', 'would_AUX', 'be_AUX', 'tough_ADJ', 'to_PART', 'be_AUX', 'walk_VERB', 'around_ADV', 'know_VERB', 'different_ADJ', 'area_NOUN', 'like_ADP', 'I_PRON', 'I_PRON', 'do_AUX', 'not_PART', 'know_VERB', 'where_SCONJ', 'this_DET', 'hall_NOUN', 'be_AUX', 'I_PRON', 'be_AUX', 'out_ADV', 'there_ADV', 'with_ADP', 'NUM_NUM', 'NUM_NUM', 'hall_NOUN', 'around_ADP', 'I_PRON', 'and_CCONJ', 'just_ADV', 'stop_VERB', 'once_ADV', 'and_CCONJ', 'I_PRON', 'say_VERB', 'where_SCONJ', 'be_AUX', 'lazenby_NOUN', 'and_CCONJ', 'they_PRON', 'that_DET', 'way_NOUN', 'not_PART', 'too_ADV', 'far_ADV', 'from_ADP', 'where_SCONJ', 'I_PRON', 'park_VERB', 'umhum_NOUN', 'yeah_INTJ'], ['test_VERB', 'NUM_NUM', 'NUM_NUM', 'NUM_NUM', 'NUM_NUM', 'NUM_NUM', 'NUM_NUM', 'NUM_NUM', 'NUM_NUM', 'NUM_NUM', 'NUM_NUM', 'umhum_NOUN', 'okay_INTJ', 'uh_INTJ', 'I_PRON', 'have_AUX', 'be_AUX', 'in_ADP', 'columbus_NOUN', 'since_SCONJ', 'NUM_NUM', 'NUM_NUM', 'NUM_NUM', 'and_CCONJ', 'uh_INTJ', 'I_PRON', 'be_AUX', 'an_DET', 'air_NOUN', 'traffic_NOUN', 'controller_NOUN', 'and_CCONJ', 'I_PRON', 'have_VERB', 'NUM_NUM', 'more_ADJ', 'day_NOUN', 'to_PART', 'work_VERB', 'before_SCONJ', 'I_PRON', 'retire_VERB', 'I_PRON', 'be_AUX', 'I_PRON', 'I_PRON', 'I_PRON', 'be_AUX', 'retire_VERB', 'sunday_PROPN', 'so_ADV', 'and_CCONJ', 'tomorrow_NOUN', 'be_AUX', 'my_PRON', 'dinner_NOUN', 'so_ADV', 'uh_INTJ', 'an_DET', 'little_ADJ', 'nervous_ADJ', 'about_ADP', 'what_PRON', 'I_PRON', 'have_AUX', 'to_PART', 'do_VERB', 'there_ADV', 'you_PRON', 'know_VERB', 'they_PRON', 'have_AUX', 'tell_VERB', 'I_PRON', 'nothing_PRON', 'except_SCONJ', 'show_VERB', 'up_ADP', 'and_CCONJ', 'I_PRON', 'have_VERB', 'NUM_NUM', 'at_ADP', 'northland_PROPN', 'highschool_NOUN', 'she_PRON', 'be_AUX', 'an_DET', 'sophomore_NOUN', 'there_ADV', 'and_CCONJ', 'the_DET', 'one_NOUN', 'at_ADP', 'o_PROPN', 'u_PROPN', \"'s_PART\", 'an_DET', 'freshman_NOUN', 'and_CCONJ', 'uh_INTJ', 'I_PRON', 'be_AUX', 'married_ADJ', 'and_CCONJ', 'uh_INTJ', 'what_PRON', 'else_ADV', 'I_PRON', 'live_VERB', 'in_ADP', 'uh_INTJ', 'northeast_ADJ', 'columbus_NOUN', 'by_ADP', 'NUM_NUM', 'NUM_NUM', 'and_CCONJ', 'NUM_NUM', 'NUM_NUM', 'NUM_NUM', 'and_CCONJ', 'that_PRON', 'be_AUX', 'about_ADP', 'it_PRON', 'about_ADP', 'NUM_NUM', 'NUM_NUM', 'and_CCONJ', 'an_DET', 'half_NOUN', 'year_NOUN', 'ago_ADV', 'oh_INTJ', 'okay_INTJ', 'yeah_INTJ', 'umhum_ADJ', 'right_ADJ', 'umhum_NOUN', 'I_PRON', 'do_AUX', 'not_PART', 'know_VERB', 'what_PRON', 'kind_NOUN', 'that_PRON', 'be_AUX', 'because_SCONJ', 'I_PRON', 'know_VERB', 'they_PRON', 'they_PRON', 'trade_VERB', 'airplane_NOUN', 'since_SCONJ', 'I_PRON', 'have_AUX', 'be_AUX', 'go_VERB', 'yeah_INTJ', 'oh_INTJ', 'oh_INTJ', 'they_PRON', 'do_VERB', 'now_ADV', 'oh_INTJ', 'okay_INTJ', 'uh_INTJ', 'they_PRON', 'uh_INTJ', 'stop_VERB', 'federally_ADV', 'funding_NOUN', 'uh_INTJ', 'o_NOUN', 's_PROPN', 'u_NOUN', 'that_PRON', 'be_AUX', 'an_DET', 'federal_ADJ', 'control_NOUN', 'tower_NOUN', 'and_CCONJ', 'they_PRON', 'contract_VERB', 'it_PRON', 'out_ADP', 'so_SCONJ', 'you_PRON', 'either_CCONJ', 'lose_VERB', 'your_PRON', 'job_NOUN', 'and_CCONJ', 'stay_VERB', 'there_ADV', 'and_CCONJ', 'work_VERB', 'for_ADP', 'the_DET', 'contractor_NOUN', 'or_CCONJ', 'you_PRON', 'pick_VERB', 'up_ADP', 'and_CCONJ', 'move_VERB', 'on_ADV', 'and_CCONJ', 'you_PRON', 'know_VERB', 'some_DET', 'people_NOUN', 'move_VERB', 'like_ADP', 'to_ADP', 'arizona_PROPN', 'and_CCONJ', 'california_PROPN', 'and_CCONJ', 'and_CCONJ', 'I_PRON', 'think_VERB', 'well_ADV', 'since_SCONJ', 'I_PRON', 'only_ADV', 'have_VERB', 'like_INTJ', 'NUM_NUM', 'and_CCONJ', 'an_DET', 'half_NOUN', 'year_NOUN', 'til_ADV', 'I_PRON', 'retire_VERB', 'and_CCONJ', 'I_PRON', 'really_ADV', 'like_VERB', 'columbus_NOUN', 'and_CCONJ', 'I_PRON', 'think_VERB', 'I_PRON', 'do_AUX', 'not_PART', 'want_VERB', 'to_PART', 'uproot_VERB', 'my_PRON', 'daughter_NOUN', 'out_ADP', 'of_ADP', 'school_NOUN', 'and_CCONJ', 'and_CCONJ', 'leave_VERB', 'and_CCONJ', 'start_VERB', 'over_ADP', 'so_ADV', 'I_PRON', 'think_VERB', 'well_INTJ', 'I_PRON', 'will_AUX', 'just_ADV', 'go_VERB', 'to_ADP', 'port_NOUN', 'columbus_NOUN', 'and_CCONJ', 'suffer_VERB', 'it_PRON', 'out_ADP', 'until_SCONJ', 'I_PRON', 'can_AUX', 'well_INTJ', 'I_PRON', 'do_AUX', 'not_PART', 'really_ADV', 'like_VERB', 'the_PRON', 'uh_INTJ', 'I_PRON', 'do_AUX', 'not_PART', 'I_PRON', 'really_ADV', 'do_AUX', 'not_PART', 'like_VERB', 'that_DET', 'job_NOUN', 'but_CCONJ', 'uh_INTJ', 'you_PRON', 'know_VERB', 'I_PRON', 'like_VERB', 'the_DET', 'people_NOUN', 'there_ADV', 'but_CCONJ', 'it_PRON', 'be_AUX', 'like_INTJ', 'uh_INTJ', 'way_NOUN', 'too_ADV', 'busy_ADJ', 'I_PRON', 'think_VERB', 'yeah_INTJ', 'there_PRON', 'be_VERB', 'there_PRON', 'be_VERB', 'time_NOUN', 'when_SCONJ', 'it_PRON', 'all_PRON', 'just_ADV', 'there_PRON', 'be_VERB', 'an_DET', 'uh_INTJ', 'group_NOUN', 'over_ADV', 'there_ADV', 'call_VERB', 'star_NOUN', 'check_NOUN', 'right_ADJ', 'tuesday_PROPN', 'wednesday_PROPN', 'and_CCONJ', 'thursday_PROPN', 'every_DET', 'night_NOUN', 'so_ADV', 'you_PRON', 'know_VERB', 'um_INTJ', 'it_PRON', 'it_PRON', 'be_AUX', 'pretty_ADV', 'pretty_ADV', 'busy_ADJ', 'there_ADV', 'but_CCONJ', 'it_PRON', 'it_PRON', 'be_AUX', 'spread_VERB', 'out_ADP', 'over_ADP', 'the_DET', 'NUM_NUM', 'hour_NOUN', 'be_AUX', 'where_SCONJ', 'as_ADP', 'port_NOUN', 'columbus_NOUN', 'sometimes_ADV', 'you_PRON', 'have_VERB', 'like_INTJ', 'maybe_ADV', 'NUM_NUM', 'NUM_NUM', 'NUM_NUM', 'airplane_NOUN', 'in_ADP', 'an_DET', 'hour_NOUN', 'time_NOUN', 'so_ADV', 'so_ADV', 'you_PRON', 'know_VERB', 'downstairs_ADV', 'there_PRON', 'be_VERB', 'NUM_NUM', 'different_ADJ', 'sector_NOUN', 'so_SCONJ', 'they_PRON', 'split_VERB', 'the_DET', 'uh_INTJ', 'area_NOUN', 'up_ADP', 'into_ADP', 'NUM_NUM', 'different_ADJ', 'area_NOUN', 'and_CCONJ', 'uh_INTJ', 'you_PRON', 'know_VERB', 'there_PRON', 'be_VERB', 'some_DET', 'sector_NOUN', 'down_ADV', 'there_ADV', 'that_PRON', 'get_VERB', 'extremely_ADV', 'busy_ADJ', 'and_CCONJ', 'then_ADV', 'sometimes_ADV', 'it_PRON', 'be_AUX', 'just_ADV', 'like_INTJ', 'you_PRON', 'know_VERB', 'you_PRON', 'be_AUX', 'just_ADV', 'twiddle_VERB', 'your_PRON', 'thumb_NOUN', 'it_PRON', 'be_AUX', 'uh_INTJ', 'it_PRON', 'be_AUX', 'like_ADP', 'feast_NOUN', 'or_CCONJ', 'famine_VERB', 'you_PRON', 'know_VERB', 'it_PRON', 'be_AUX', 'not_PART', 'like_ADP', 'steady_ADJ', 'like_ADP', 'if_SCONJ', 'you_PRON', 'be_AUX', 'work_VERB', 'at_ADP', 'meijer_NOUN', 'run_VERB', 'the_DET', 'cash_NOUN', 'register_NOUN', 'it_PRON', 'be_AUX', 'just_ADV', 'kind_ADV', 'of_ADV', 'like_INTJ', 'steady_ADJ', 'it_PRON', 'be_AUX', 'like_SCONJ', 'you_PRON', 'look_VERB', 'at_ADP', 'you_PRON', 'know_VERB', 'you_PRON', 'you_PRON', 'would_AUX', 'be_AUX', 'like_ADP', 'sit_VERB', 'at_ADP', 'meijer_NOUN', 'and_CCONJ', 'there_PRON', 'be_VERB', 'no_DET', 'one_NOUN', 'in_ADP', 'your_PRON', 'line_NOUN', 'and_CCONJ', 'then_ADV', 'you_PRON', 'turn_VERB', 'your_PRON', 'back_NOUN', 'and_CCONJ', 'turn_VERB', 'back_ADV', 'around_ADV', 'and_CCONJ', 'there_PRON', 'be_VERB', 'like_INTJ', 'NUM_NUM', 'NUM_NUM', 'right_ADV', 'I_PRON', 'that_SCONJ', 'I_PRON', 'do_AUX', 'not_PART', 'know_VERB', 'but_CCONJ', 'uh_INTJ', 'you_PRON', 'know_VERB', 'it_PRON', 'be_AUX', 'like_ADP', 'if_SCONJ', 'if_SCONJ', 'you_PRON', 'and_CCONJ', 'I_PRON', 'be_AUX', 'run_VERB', 'an_DET', 'airline_NOUN', 'and_CCONJ', 'everybody_PRON', 'want_VERB', 'to_PART', 'get_VERB', 'new_PROPN', 'york_PROPN', 'at_ADP', 'NUM_NUM', 'an_DET', 'm_NOUN', 'and_CCONJ', 'you_PRON', 'go_VERB', 'at_ADP', 'NUM_NUM', 'and_CCONJ', 'I_PRON', 'go_VERB', 'at_ADP', 'NUM_NUM', 'NUM_NUM', 'who_PRON', 'be_AUX', 'they_PRON', 'go_VERB', 'to_PART', 'fly_VERB', 'so_SCONJ', 'that_SCONJ', 'I_PRON', 'think_VERB', 'that_PRON', 'be_AUX', 'an_DET', 'problem_NOUN', 'too_ADV', 'you_PRON', 'know_VERB', 'everybody_PRON', 'say_VERB', 'well_INTJ', 'I_PRON', 'do_AUX', 'not_PART', 'want_VERB', 'to_PART', 'get_VERB', 'there_ADV', 'at_ADP', 'NUM_NUM', 'NUM_NUM', 'you_PRON', 'know_VERB', 'so_ADV', 'go_VERB', 'to_PART', 'be_AUX', 'an_DET', 'really_ADV', 'busy_ADJ', 'day_NOUN', 'and_CCONJ', 'I_PRON', 'would_AUX', 'the_DET', 'same_ADJ', 'thing_NOUN', 'at_ADP', 'port_NOUN', 'columbus_NOUN', 'you_PRON', 'know_VERB', 'I_PRON', 'I_PRON', 'would_AUX', 'see_VERB', 'all_DET', 'these_DET', 'car_NOUN', 'but_CCONJ', 'it_PRON', 'would_AUX', 'be_AUX', 'just_ADV', 'about_ADV', 'the_DET', 'same_ADJ', 'traffic_NOUN', 'and_CCONJ', 'I_PRON', 'be_AUX', 'like_INTJ', 'and_CCONJ', 'I_PRON', 'mention_VERB', 'somebody_PRON', 'I_PRON', 'go_VERB', 'where_SCONJ', 'be_AUX', 'the_DET', 'extra_ADJ', 'airplane_NOUN', 'and_CCONJ', 'they_PRON', 'go_VERB', 'they_PRON', 'can_AUX', 'not_PART', 'add_VERB', 'extra_ADJ', 'airplane_NOUN', 'it_PRON', 'be_AUX', 'they_PRON', 'have_VERB', 'certain_ADJ', 'route_NOUN', 'they_PRON', 'can_AUX', 'do_VERB', 'they_PRON', 'just_ADV', 'have_VERB', 'to_PART', 'put_VERB', 'big_ADJ', 'airplane_NOUN', 'on_ADP', 'so_ADV', 'he_PRON', 'say_VERB', 'you_PRON', 'know_VERB', 'you_PRON', 'will_AUX', 'see_VERB', 'large_ADJ', 'airplane_NOUN', 'when_SCONJ', 'it_PRON', 'be_AUX', 'holiday_NOUN', 'time_NOUN', 'so_SCONJ', 'they_PRON', 'can_AUX', 'put_VERB', 'more_ADJ', 'people_NOUN', 'on_ADP', 'so_ADV', 'I_PRON', 'know_VERB', 'I_PRON', 'do_AUX', 'not_PART', 'umhum_ADJ', 'until_SCONJ', 'they_PRON', 'start_VERB', 'get_VERB', 'a_PRON', 'little_ADJ', 'bit_NOUN', 'well_ADJ', 'equipment_NOUN', 'because_SCONJ', 'the_DET', 'equipment_NOUN', 'be_AUX', 'really_ADV', 'ancient_ADJ', 'I_PRON', 'mean_VERB', 'there_PRON', 'be_VERB', 'stuff_NOUN', 'there_ADV', 'that_PRON', 'be_AUX', 'old_ADJ', 'than_SCONJ', 'I_PRON', 'be_AUX', 'so_ADV', 'but_CCONJ', 'they_PRON', 'like_VERB', 'uh_INTJ', 'port_NOUN', 'columbus_NOUN', 'be_AUX', 'get_VERB', 'an_DET', 'new_ADJ', 'tower_NOUN', 'and_CCONJ', 'they_PRON', 'be_AUX', 'it_PRON', 'be_AUX', 'suppose_VERB', 'be_AUX', 'do_VERB', 'in_ADP', 'about_ADV', 'NUM_NUM', 'and_CCONJ', 'an_DET', 'half_NOUN', 'year_NOUN', 'and_CCONJ', 'the_DET', 'equipment_NOUN', 'they_PRON', 'be_AUX', 'get_VERB', 'be_AUX', 'all_DET', 'brand_NOUN', 'new_ADJ', 'stuff_NOUN', 'it_PRON', 'be_AUX', 'not_PART', 'like_SCONJ', 'they_PRON', 'be_AUX', 'take_VERB', 'all_DET', 'the_DET', 'old_ADJ', 'junk_NOUN', 'we_PRON', 'have_AUX', 'get_VERB', 'and_CCONJ', 'move_VERB', 'it_PRON', 'over_ADV', 'there_ADV', 'so_ADV', 'you_PRON', 'know_VERB', 'that_PRON', 'will_AUX', 'help_VERB', 'and_CCONJ', 'and_CCONJ', 'nationwide_ADV', 'they_PRON', 'be_AUX', 'also_ADV', 'put_VERB', 'new_ADJ', 'stuff_NOUN', 'in_ADP', 'but_CCONJ', 'the_DET', 'bad_ADJ', 'part_NOUN', 'be_AUX', 'be_AUX', 'um_INTJ', 'picture_VERB', 'your_PRON', 'father_NOUN', 'be_AUX', 'your_PRON', 'father_NOUN', 'computer_NOUN', 'literate_NOUN', 'okay_INTJ', 'he_PRON', 'be_AUX', 'he_PRON', 'be_AUX', 'at_ADP', 'his_PRON', 'job_NOUN', 'and_CCONJ', 'tomorrow_NOUN', 'morning_NOUN', 'they_PRON', 'come_VERB', 'in_ADV', 'and_CCONJ', 'they_PRON', 'go_VERB', 'everybody_PRON', 'be_AUX', 'go_VERB', 'to_PART', 'put_VERB', 'all_DET', 'their_PRON', 'work_NOUN', 'on_ADP', 'computer_NOUN', 'well_ADV', 'and_CCONJ', 'umhum_ADJ', 'and_CCONJ', 'they_PRON', 'will_AUX', 'go_VERB', 'that_PRON', 'be_AUX', 'transmeridian_ADJ', 'and_CCONJ', 'we_PRON', 'go_VERB', 'write_VERB', 'that_PRON', 'down_ADP', 'because_SCONJ', 'I_PRON', 'do_AUX', 'not_PART', 'know_VERB', 'that_DET', 'name_NOUN', 'you_PRON', 'know_VERB', 'so_ADV', 'umhum_ADJ', 'I_PRON', 'the_DET', 'accent_NOUN', 'sometimes_ADV', 'but_CCONJ', 'uh_INTJ', 'they_PRON', 'they_PRON', 'uh_INTJ', 'they_PRON', 'be_AUX', 'okay_ADJ', 'I_PRON', 'mean_VERB', 'no_INTJ', 'no_INTJ', 'big_ADJ', 'problem_NOUN', 'but_CCONJ', 'uh_INTJ', 'the_DET', 'the_DET', 'accent_NOUN', 'sometime_ADV', 'it_PRON', 'be_AUX', 'like_INTJ', 'um_INTJ', 'there_PRON', 'be_VERB', 'sort_ADV', 'of_ADV', 'an_DET', 'uh_INTJ', 'running_NOUN', 'joke_NOUN', 'I_PRON', 'do_AUX', 'not_PART', 'know_VERB', 'if_SCONJ', 'I_PRON', 'should_AUX', 'say_VERB', 'this_PRON', 'but_CCONJ', 'it_PRON', 'be_AUX', 'like_ADP', 'if_SCONJ', 'I_PRON', 'can_AUX', 'talk_VERB', 'like_ADP', 'and_CCONJ', 'uh_INTJ', 'talk_VERB', 'all_DET', 'the_DET', 'time_NOUN', 'like_ADP', 'this_PRON', 'why_SCONJ', 'be_AUX', 'it_PRON', 'that_SCONJ', 'they_PRON', 'can_AUX', 'not_PART', 'talk_VERB', 'like_SCONJ', 'we_PRON', 'do_AUX', 'you_PRON', 'know_VERB', 'it_PRON', 'be_AUX', 'like_INTJ', 'you_PRON', 'know_VERB', 'if_SCONJ', 'I_PRON', 'could_AUX', 'if_SCONJ', 'I_PRON', 'could_AUX', 'talk_VERB', 'that_DET', 'way_NOUN', 'we_PRON', 'do_AUX', 'have_VERB', 'pilot_NOUN', 'that_PRON', 'do_AUX', 'talk_VERB', 'like_ADP', 'sometimes_ADV', 'it_PRON', 'be_AUX', 'even_ADV', 'easy_ADJ', 'to_PART', 'understand_VERB', 'they_PRON', 'because_SCONJ', 'their_PRON', 'they_PRON', 'enunciate_VERB', 'so_ADV', 'well_INTJ', 'but_CCONJ', 'uh_INTJ', 'you_PRON', 'know_VERB', 'it_PRON', 'that_PRON', 'be_AUX', 'something_PRON', 'we_PRON', 'have_AUX', 'never_ADV', 'understand_VERB', 'you_PRON', 'know_VERB', 'if_SCONJ', 'we_PRON', 'can_AUX', 'fake_VERB', 'that_DET', 'accent_NOUN', 'they_PRON', 'go_VERB', 'she_PRON', 'be_AUX', 'get_VERB', 'it_PRON', 'and_CCONJ', 'they_PRON', 'go_VERB', 'on_ADP', 'to_ADP', 'the_DET', 'next_ADJ', 'guy_NOUN', 'and_CCONJ', 'then_ADV', 'all_DET', 'a_ADV', 'sudden_ADV', 'you_PRON', 'be_AUX', 'go_VERB', 'off_ADP', 'this_DET', 'way_NOUN', 'and_CCONJ', 'they_PRON', 'go_VERB', 'uh_INTJ', 'NUM_NUM', 'NUM_NUM', 'juliet_PROPN', 'uh_INTJ', 'where_SCONJ', 'be_AUX', 'you_PRON', 'go_VERB', 'and_CCONJ', 'you_PRON', 'be_AUX', 'like_INTJ', 'uh_INTJ', 'I_PRON', 'uh_INTJ', 'tell_VERB', 'I_PRON', 'to_ADP', 'and_CCONJ', 'then_ADV', 'they_PRON', 'go_VERB', 'oh_INTJ', 'brother_NOUN', 'you_PRON', 'know_VERB', 'so_ADV', 'now_ADV', 'you_PRON', 'know_VERB', 'the_DET', 'attention_NOUN', 'be_AUX', 'divert_VERB', 'to_ADP', 'you_PRON', 'so_SCONJ', 'that_PRON', 'be_AUX', 'usually_ADV', 'what_PRON', 'the_DET', 'problem_NOUN', 'be_AUX', 'because_SCONJ', 'most_ADJ', 'pilot_NOUN', 'be_AUX', 'there_PRON', 'be_VERB', 'really_ADV', 'professional_ADJ', 'yeah_INTJ', 'umhum_NOUN', 'yeah_INTJ', 'yeah_INTJ', 'umhum_ADJ', 'right_INTJ', 'um_INTJ', 'I_PRON', 'use_VERB', 'to_PART', 'be_AUX', 'an_DET', 'charter_NOUN', 'pilot_NOUN', 'and_CCONJ', 'an_DET', 'flight_NOUN', 'instructor_NOUN', 'and_CCONJ', 'I_PRON', 'use_VERB', 'to_PART', 'go_VERB', 'to_ADP', 'work_VERB', 'at_ADP', 'like_INTJ', 'NUM_NUM', \"o'clock_NOUN\", 'in_ADP', 'the_DET', 'morning_NOUN', 'and_CCONJ', 'get_VERB', 'home_ADV', 'for_ADP', 'my_PRON', 'first_ADJ', 'meal_NOUN', 'with_ADP', 'johnny_PROPN', 'carson_PROPN', 'and_CCONJ', 'I_PRON', 'do_VERB', 'this_PRON', 'NUM_NUM', 'day_NOUN', 'an_DET', 'week_NOUN', 'and_CCONJ', 'to_PART', 'get_VERB', 'my_PRON', 'my_PRON', 'NUM_NUM', 'day_NOUN', 'off_ADV', 'I_PRON', 'would_AUX', 'get_VERB', 'up_ADP', 'at_ADP', 'like_INTJ', 'at_ADP', 'NUM_NUM', \"o'clock_NOUN\", 'get_NOUN', 'in_ADP', 'my_PRON', 'car_NOUN', 'and_CCONJ', 'drive_VERB', 'to_ADP', 'the_DET', 'mall_NOUN', 'and_CCONJ', 'park_NOUN', 'and_CCONJ', 'sleep_VERB', 'in_ADP', 'my_PRON', 'car_NOUN', 'so_ADV', 'you_PRON', 'know_VERB', 'NUM_NUM', 'day_NOUN', 'um_INTJ', 'it_PRON', 'be_AUX', 'an_DET', 'really_ADV', 'bad_ADJ', 'day_NOUN', 'I_PRON', 'would_AUX', 'go_VERB', 'to_PART', 'like_INTJ', 'tulsa_VERB', 'oklahoma_PROPN', 'with_ADP', 'somebody_PRON', 'and_CCONJ', 'come_VERB', 'back_ADV', 'and_CCONJ', 'you_PRON', 'know_VERB', 'I_PRON', 'like_INTJ', 'I_PRON', 'say_VERB', 'I_PRON', 'have_AUX', 'not_PART', 'have_VERB', 'anything_PRON', 'to_PART', 'eat_VERB', 'the_DET', 'entire_ADJ', 'day_NOUN', 'and_CCONJ', 'uh_INTJ', 'it_PRON', 'be_AUX', 'like_SCONJ', 'it_PRON', 'be_AUX', 'like_ADP', 'midnight_NOUN', 'and_CCONJ', 'I_PRON', 'get_VERB', 'home_ADV', 'and_CCONJ', 'I_PRON', 'think_VERB', 'oh_INTJ', 'I_PRON', 'be_AUX', 'too_ADV', 'hungry_ADJ', 'you_PRON', 'know_VERB', 'to_ADP', 'I_PRON', 'be_AUX', 'too_ADV', 'tired_ADJ', 'and_CCONJ', 'hungry_ADJ', 'and_CCONJ', 'I_PRON', 'just_ADV', 'think_VERB', 'uh_INTJ', 'I_PRON', 'be_AUX', 'not_PART', 'make_VERB', 'anything_PRON', 'so_ADV', 'I_PRON', 'just_ADV', 'go_VERB', 'to_ADP', 'bed_NOUN', 'and_CCONJ', 'uh_INTJ', 'an_DET', 'guy_NOUN', 'knock_VERB', 'on_ADP', 'my_PRON', 'door_NOUN', 'which_PRON', 'he_PRON', 'live_VERB', 'upstairs_ADV', 'in_ADP', 'the_DET', 'apartment_NOUN', 'above_ADP', 'I_PRON', 'and_CCONJ', 'he_PRON', 'tell_VERB', 'I_PRON', 'be_AUX', 'you_PRON', 'in_ADV', 'there_ADV', 'and_CCONJ', 'I_PRON', 'would_AUX', 'not_PART', 'answer_VERB', 'well_INTJ', 'it_PRON', 'be_AUX', 'an_DET', 'real_ADV', 'cheap_ADJ', 'apartment_NOUN', 'he_PRON', 'take_VERB', 'an_DET', 'credit_NOUN', 'card_NOUN', 'and_CCONJ', 'punch_VERB', 'the_DET', 'uh_INTJ', 'the_DET', 'door_NOUN', 'knob_NOUN', 'and_CCONJ', 'and_CCONJ', 'he_PRON', 'go_VERB', 'do_AUX', 'you_PRON', 'hear_VERB', 'I_PRON', 'and_CCONJ', 'I_PRON', 'go_VERB', 'yeah_INTJ', 'and_CCONJ', 'he_PRON', 'go_VERB', 'you_PRON', 'get_VERB', 'an_DET', 'trip_NOUN', 'be_AUX', 'out_ADP', 'the_DET', 'airport_NOUN', 'at_ADP', 'NUM_NUM', 'NUM_NUM', 'and_CCONJ', 'I_PRON', 'go_VERB', 'he_PRON', 'say_VERB', 'you_PRON', 'hear_VERB', 'I_PRON', 'and_CCONJ', 'I_PRON', 'go_VERB', 'yeah_INTJ', 'uh_INTJ', 'yeah_INTJ', 'he_PRON', 'go_VERB', 'well_ADV', 'get_VERB', 'some_DET', 'sleep_NOUN', 'and_CCONJ', 'he_PRON', 'turn_VERB', 'the_DET', 'light_NOUN', 'off_ADP', 'pull_VERB', 'the_DET', 'door_NOUN', 'shut_VERB', 'and_CCONJ', 'uh_INTJ', 'I_PRON', 'be_AUX', 'lay_VERB', 'there_ADV', 'and_CCONJ', 'I_PRON', 'be_AUX', 'like_INTJ', 'I_PRON', 'have_AUX', 'be_AUX', 'home_ADV', 'like_ADP', 'NUM_NUM', 'hour_NOUN', 'and_CCONJ', 'now_ADV', 'I_PRON', 'be_AUX', 'just_ADV', 'fume_VERB', 'and_CCONJ', 'I_PRON', 'think_VERB', 'I_PRON', 'know_VERB', 'an_DET', 'college_NOUN', 'education_NOUN', 'do_AUX', 'not_PART', 'guarantee_VERB', 'you_PRON', 'financial_ADJ', 'security_NOUN', 'but_CCONJ', 'I_PRON', 'think_VERB', 'what_PRON', 'be_AUX', 'I_PRON', 'do_VERB', 'work_VERB', 'you_PRON', 'know_VERB', 'from_ADP', 'dust_NOUN', 'I_PRON', 'mean_VERB', 'dawn_NOUN', 'to_ADP', 'way_NOUN', 'past_ADP', 'dusk_NOUN', 'NUM_NUM', 'day_NOUN', 'an_DET', 'week_NOUN', 'and_CCONJ', 'make_VERB', 'nothing_PRON', 'and_CCONJ', 'have_VERB', 'people_NOUN', 'like_ADP', 'this_PRON', 'come_VERB', 'tell_VERB', 'I_PRON', 'you_PRON', 'got_VERB', 'to_PART', 'go_VERB', 'to_ADP', 'work_NOUN', 'tomorrow_NOUN', 'so_ADV', 'I_PRON', 'go_VERB', 'upstairs_ADV', 'and_CCONJ', 'knock_VERB', 'on_ADP', 'his_PRON', 'door_NOUN', 'and_CCONJ', 'tell_VERB', 'he_PRON', 'I_PRON', 'quit_VERB', 'and_CCONJ', 'uh_INTJ', 'he_PRON', 'be_AUX', 'not_PART', 'very_ADV', 'thrilled_ADJ', 'about_ADP', 'that_PRON', 'but_CCONJ', 'NUM_NUM', 'of_ADP', 'my_PRON', 'student_NOUN', 'be_AUX', 'an_DET', 'uh_INTJ', 'controller_NOUN', 'and_CCONJ', 'uh_INTJ', 'he_PRON', 'come_VERB', 'and_CCONJ', 'talk_VERB', 'to_ADP', 'I_PRON', 'and_CCONJ', 'he_PRON', 'say_VERB', 'uh_INTJ', 'he_PRON', 'say_VERB', 'I_PRON', 'know_VERB', 'I_PRON', 'hear_VERB', 'you_PRON', 'quit_VERB', 'he_PRON', 'say_VERB', 'I_PRON', 'want_VERB', 'to_PART', 'tell_VERB', 'you_PRON', 'about_ADP', 'my_PRON', 'job_NOUN', 'and_CCONJ', 'he_PRON', 'be_AUX', 'an_DET', 'controller_NOUN', 'at_ADP', 'owensboro_PROPN', 'kentucky_PROPN', 'and_CCONJ', 'uh_INTJ', 'he_PRON', 'say_VERB', 'he_PRON', 'work_VERB', 'NUM_NUM', 'hour_NOUN', 'an_DET', 'week_NOUN', 'and_CCONJ', 'I_PRON', 'go_VERB', 'well_INTJ', 'I_PRON', 'usually_ADV', 'do_VERB', 'that_PRON', 'by_ADP', 'wednesday_PROPN', 'and_CCONJ', 'he_PRON', 'say_VERB', 'that_SCONJ', 'he_PRON', 'have_VERB', 'uh_INTJ', 'annual_ADJ', 'leave_NOUN', 'and_CCONJ', 'sick_ADJ', 'leave_NOUN', 'and_CCONJ', 'I_PRON', 'say_VERB', 'what_PRON', 'be_AUX', 'well_ADJ', 'actually_ADV', 'anybody_PRON', 'can_AUX', 'try_VERB', 'you_PRON', 'know_VERB', 'there_PRON', 'be_VERB', 'an_DET', 'civil_ADJ', 'service_NOUN', 'exam_NOUN', 'you_PRON', 'have_VERB', 'to_PART', 'take_VERB', 'and_CCONJ', 'they_PRON', 'place_VERB', 'you_PRON', 'on_ADP', 'an_DET', 'list_NOUN', 'from_ADP', 'that_PRON', 'and_CCONJ', 'like_INTJ', 'say_VERB', 'if_SCONJ', 'you_PRON', 'have_VERB', 'an_DET', 'NUM_NUM', 'well_INTJ', 'everybody_PRON', 'that_PRON', 'take_VERB', 'it_PRON', 'after_ADP', 'you_PRON', 'that_PRON', 'get_VERB', 'an_DET', 'NUM_NUM', 'one_NOUN', 'be_AUX', 'go_VERB', 'to_PART', 'get_AUX', 'hire_VERB', 'before_SCONJ', 'you_PRON', 'do_AUX', 'uh_INTJ', 'so_ADV', 'you_PRON', 'can_AUX', 'take_VERB', 'it_PRON', 'again_ADV', 'but_CCONJ', 'if_SCONJ', 'you_PRON', 'score_VERB', 'low_ADJ', 'you_PRON', 'got_VERB', 'to_PART', 'keep_VERB', 'that_DET', 'low_ADJ', 'score_NOUN', 'so_ADV', 'and_CCONJ', 'that_SCONJ', 'sometimes_ADV', 'people_NOUN', 'be_AUX', 'you_PRON', 'know_VERB', 'kind_ADV', 'of_ADV', 'apprehensive_VERB', 'about_ADP', 'do_VERB', 'that_PRON', 'but_CCONJ', 'uh_INTJ', 'once_SCONJ', 'you_PRON', 'pass_VERB', 'that_PRON', 'and_CCONJ', 'then_ADV', 'they_PRON', 'say_VERB', 'you_PRON', 'know_VERB', 'the_DET', 'government_NOUN', 'go_VERB', 'okay_INTJ', 'we_PRON', 'be_AUX', 'ready_ADJ', 'to_PART', 'hire_VERB', 'an_DET', 'NUM_NUM', 'people_NOUN', 'throughout_ADP', 'the_DET', 'united_PROPN', 'states_PROPN', 'well_INTJ', 'each_DET', 'region_NOUN', 'there_PRON', 'be_VERB', 'region_NOUN', 'in_ADP', 'the_DET', 'united_PROPN', 'states_PROPN', 'they_PRON', 'may_AUX', 'get_VERB', 'like_INTJ', 'NUM_NUM', 'for_ADP', 'the_DET', 'great_ADJ', 'lake_NOUN', 'region_NOUN', 'so_SCONJ', 'they_PRON', 'go_VERB', 'down_ADP', 'the_DET', 'list_NOUN', 'the_DET', 'first_ADJ', 'NUM_NUM', 'and_CCONJ', 'they_PRON', 'call_VERB', 'you_PRON', 'know_VERB', 'they_PRON', 'write_VERB', 'each_DET', 'NUM_NUM', 'of_ADP', 'they_PRON', 'and_CCONJ', 'say_VERB', 'we_PRON', 'be_AUX', 'offer_VERB', 'you_PRON', 'an_DET', 'position_NOUN', 'you_PRON', 'know_VERB', 'do_AUX', 'you_PRON', 'want_VERB', 'it_PRON', 'or_CCONJ', 'not_PART', 'and_CCONJ', 'you_PRON', 'know_VERB', 'some_DET', 'the_DET', 'people_NOUN', 'have_AUX', 'say_VERB', 'well_INTJ', 'I_PRON', 'have_AUX', 'be_AUX', 'on_ADP', 'the_DET', 'list_NOUN', 'for_ADP', 'NUM_NUM', 'year_NOUN', 'and_CCONJ', 'I_PRON', 'have_VERB', 'an_DET', 'you_PRON', 'know_VERB', 'like_INTJ', 'you_PRON', 'I_PRON', 'have_VERB', 'an_DET', 'job_NOUN', 'and_CCONJ', 'I_PRON', 'do_AUX', 'not_PART', 'want_VERB', 'it_PRON', 'now_ADV', 'you_PRON', 'know_VERB', 'so_ADV', 'and_CCONJ', 'then_ADV', 'those_DET', 'people_NOUN', 'have_VERB', 'to_PART', 'go_VERB', 'to_ADP', 'oklahoma_PROPN', 'city_PROPN', 'to_ADP', 'the_DET', 'academy_NOUN', 'and_CCONJ', 'go_VERB', 'through_ADP', 'an_DET', 'screening_NOUN', 'program_NOUN', 'which_PRON', 'be_AUX', 'really_ADV', 'hard_ADJ', 'because_SCONJ', 'at_ADP', 'NUM_NUM', 'time_NOUN', 'only_ADV', 'NUM_NUM', 'percent_NOUN', 'of_ADP', 'the_DET', 'people_NOUN', 'be_AUX', 'make_VERB', 'it_PRON', 'through_ADP', 'that_DET', 'right_NOUN', 'and_CCONJ', 'and_CCONJ', 'also_ADV', 'the_DET', 'other_ADJ', 'thing_NOUN', 'be_AUX', 'you_PRON', 'you_PRON', 'have_VERB', 'to_PART', 'be_AUX', 'sort_ADV', 'of_ADV', 'compassionate_ADJ', 'because_SCONJ', 'like_INTJ', 'you_PRON', 'know_VERB', 'you_PRON', 'be_AUX', 'you_PRON', 'be_AUX', 'work_VERB', 'an_DET', 'lot_NOUN', 'of_ADP', 'airplane_NOUN', 'and_CCONJ', 'you_PRON', 'be_AUX', 'want_VERB', 'answer_NOUN', 'like_ADP', 'this_PRON', 'when_SCONJ', 'you_PRON', 'something_VERB', 'out_ADP', 'you_PRON', 'want_VERB', 'an_DET', 'answer_NOUN', 'you_PRON', 'know_VERB', 'each_DET', 'airplane_NOUN', 'be_AUX', 'suppose_VERB', 'to_PART', 'respond_VERB', 'with_ADP', 'their_PRON', 'call_NOUN', 'sign_NOUN', 'like_SCONJ', 'if_SCONJ', 'I_PRON', 'tell_VERB', 'somebody_PRON', 'you_PRON', 'know_VERB', 'turn_VERB', 'leave_VERB', 'head_VERB', 'NUM_NUM', 'NUM_NUM', 'NUM_NUM', 'and_CCONJ', 'he_PRON', 'be_AUX', 'suppose_VERB', 'to_PART', 'respond_VERB', 't_PROPN', 'w_NOUN', 'an_DET', 'NUM_NUM', 'NUM_NUM', 'NUM_NUM', 'roger_NOUN', 'well_INTJ', 'if_SCONJ', 'he_PRON', 'do_AUX', 'not_PART', 'respond_VERB', 'then_ADV', 'I_PRON', 'have_AUX', 'get_VERB', 'to_PART', 'say_VERB', 'it_PRON', 'again_ADV', 'which_PRON', 'mean_VERB', 'instead_ADV', 'of_ADP', 'NUM_NUM', 'airplane_NOUN', 'I_PRON', 'now_ADV', 'have_VERB', 'NUM_NUM', 'I_PRON', 'be_AUX', 'talk_VERB', 'to_ADP', 'because_SCONJ', 'I_PRON', 'have_VERB', 'to_PART', 'tell_VERB', 'they_PRON', 'talk_VERB', 'to_ADP', 'they_PRON', 'NUM_NUM', 'time_NOUN', 'each_DET', 'so_SCONJ', 'you_PRON', 'know_VERB', 'there_PRON', 'be_VERB', 'some_DET', 'people_NOUN', 'that_PRON', 'get_VERB', 'really_ADV', 'mad_ADJ', 'quick_ADJ', 'because_SCONJ', 'they_PRON', 'want_VERB', 'that_DET', 'answer_NOUN', 'like_ADP', 'that_PRON', 'where_SCONJ', 'you_PRON', 'know_VERB', 'I_PRON', 'be_AUX', 'an_DET', 'pilot_NOUN', 'so_ADV', 'sometimes_ADV', 'I_PRON', 'be_AUX', 'think_VERB', 'you_PRON', 'know_VERB']]\n"
          ]
        }
      ]
    },
    {
      "cell_type": "markdown",
      "source": [
        "# Function Words"
      ],
      "metadata": {
        "id": "YI6BpNBcJDez"
      }
    },
    {
      "cell_type": "code",
      "source": [
        "from collections import Counter\n",
        "\n",
        "\n",
        "\n",
        "\n",
        "class TextFWAnalyzer:\n",
        "    def __init__(self):\n",
        "        self.counter = Counter()\n",
        "        self.filtered = []\n",
        "\n",
        "    def count_tokens(self, data):\n",
        "        \"\"\"Counts the frequency of each token in the dataset.\"\"\"\n",
        "        for tokens in data.values():\n",
        "            self.counter.update(tokens)\n",
        "\n",
        "    def filter(self, data, fw_tags, num_items):\n",
        "        \"\"\"Processes the text data based on filter settings, updates internal state.\"\"\"\n",
        "        # Count the tokens in the provided data\n",
        "        self.count_tokens(data)\n",
        "\n",
        "        # Retrieve the most common tokens up to num_items\n",
        "        top = self.counter.most_common(num_items)\n",
        "\n",
        "        # Filter tokens based on specific part-of-speech tags\n",
        "        self.filtered = [item[0] for item in top if item[0].split(\"_\")[1] in fw_tags]\n",
        "\n",
        "    def get_fw(self):\n",
        "        \"\"\"Returns the list of function words filtered in the last operation.\"\"\"\n",
        "        return self.filtered\n",
        "\n",
        "    def display_results(self, top_items):\n",
        "        \"\"\"Prints the filtered tokens and the top items not in the filtered list.\"\"\"\n",
        "        print(\"Filtered tokens:\")\n",
        "        for token in self.filtered:\n",
        "            print(token)\n",
        "        print(f\"Number of filtered items: {len(self.filtered)}\\n\")\n",
        "\n",
        "        print(\"Remaining top items not filtered:\")\n",
        "        for item in top_items:\n",
        "            if item[0] not in self.filtered:\n",
        "                print(item)\n",
        "\n",
        "\n",
        "analyzer = TextFWAnalyzer()\n",
        "fw_tags = [\"PRON\", \"DET\", \"PART\", \"CCONJ\", \"SCONJ\", \"ADP\", \"AUX\", \"INTJ\"]\n",
        "analyzer.filter(clean_data, fw_tags, 100)\n",
        "function_words = analyzer.get_fw()\n",
        "\n",
        "print(\"Function Words:\")\n",
        "print(function_words)\n",
        "print(len(function_words))"
      ],
      "metadata": {
        "id": "8LcS99tuybs_",
        "colab": {
          "base_uri": "https://localhost:8080/"
        },
        "outputId": "0b3dee26-89b8-4e19-be5b-0ed07a2b7586"
      },
      "execution_count": 281,
      "outputs": [
        {
          "output_type": "stream",
          "name": "stdout",
          "text": [
            "Function Words:\n",
            "['be_AUX', 'I_PRON', 'and_CCONJ', 'the_DET', 'an_DET', 'it_PRON', 'you_PRON', 'uh_INTJ', 'of_ADP', 'not_PART', 'to_PART', 'they_PRON', 'in_ADP', 'that_PRON', 'we_PRON', 'do_AUX', 'he_PRON', 'but_CCONJ', 'to_ADP', 'that_SCONJ', 'have_AUX', 'on_ADP', 'my_PRON', 'for_ADP', 'with_ADP', 'what_PRON', 'she_PRON', 'um_INTJ', 'yeah_INTJ', 'would_AUX', 'or_CCONJ', 'because_SCONJ', 'there_PRON', 'at_ADP', 'like_ADP', 'if_SCONJ', 'about_ADP', 'out_ADP', 'when_SCONJ', 'that_DET', 'like_INTJ', 'up_ADP', 'will_AUX', 'well_INTJ', 'can_AUX', 'from_ADP', 'this_DET', 'all_DET', 'this_PRON', 'could_AUX', 'who_PRON', 'something_PRON', 'where_SCONJ', 'their_PRON', 'no_DET', 'how_SCONJ', 'into_ADP', 'some_DET', 'as_ADP', 'as_SCONJ', 'your_PRON', 'our_PRON', 'by_ADP']\n",
            "63\n"
          ]
        }
      ]
    },
    {
      "cell_type": "markdown",
      "source": [
        "## Divide"
      ],
      "metadata": {
        "id": "QoZO7QqXJJjI"
      }
    },
    {
      "cell_type": "code",
      "execution_count": 282,
      "metadata": {
        "id": "74-idV9e-Az-"
      },
      "outputs": [],
      "source": [
        "class DocumentSplitter:\n",
        "    def __init__(self, data, length):\n",
        "        \"\"\"\n",
        "        Initializes the DocumentSplitter class with dictionary data and a specified length.\n",
        "\n",
        "        Parameters:\n",
        "            data (dict): A dictionary where both keys and values are strings.\n",
        "            length (int): The fixed length to which the string values should be divided.\n",
        "        \"\"\"\n",
        "        self.data = data\n",
        "        self.length = length\n",
        "        self.new_dict = {}\n",
        "        self._split_docs()  # Perform the splitting during initialization\n",
        "\n",
        "    def _split_docs(self):\n",
        "        \"\"\"\n",
        "        Splits the string values in the dictionary into sublists of the given length,\n",
        "        with new keys generated for each substring. This private method populates self.new_dict.\n",
        "        \"\"\"\n",
        "        for key, value in self.data.items():\n",
        "            num_substrings = len(value) // self.length + (1 if len(value) % self.length != 0 else 0)\n",
        "            for i in range(num_substrings):\n",
        "                start_index = i * self.length\n",
        "                end_index = start_index + self.length\n",
        "                new_key = f\"{key}_{i+1}\"\n",
        "                self.new_dict[new_key] = value[start_index:end_index]\n",
        "\n",
        "    def filter(self):\n",
        "        \"\"\"\n",
        "        Retrieves items where the substring length equals the specified length.\n",
        "\n",
        "        Returns:\n",
        "            dict: A dictionary with items of the specified full length.\n",
        "        \"\"\"\n",
        "        return {k: v for k, v in self.new_dict.items() if len(v) == self.length}\n",
        "\n",
        "    def leftovers(self):\n",
        "        \"\"\"\n",
        "        Retrieves items where the substring length is less than the specified length.\n",
        "\n",
        "        Returns:\n",
        "            dict: A dictionary with items that are not of the full specified length.\n",
        "        \"\"\"\n",
        "        return {k: v for k, v in self.new_dict.items() if len(v) != self.length}\n",
        "\n"
      ]
    },
    {
      "cell_type": "code",
      "source": [
        "docs = DocumentSplitter(clean_data, 600).filter() #train data\n",
        "leftovers = DocumentSplitter(clean_data, 600).leftovers() #test data\n",
        "print(len(docs))"
      ],
      "metadata": {
        "id": "eYNzJodHH93r",
        "colab": {
          "base_uri": "https://localhost:8080/"
        },
        "outputId": "40e4c843-f1ad-4862-8677-1ee514606671"
      },
      "execution_count": 283,
      "outputs": [
        {
          "output_type": "stream",
          "name": "stdout",
          "text": [
            "76\n"
          ]
        }
      ]
    },
    {
      "cell_type": "code",
      "source": [
        "print(docs.keys())"
      ],
      "metadata": {
        "colab": {
          "base_uri": "https://localhost:8080/"
        },
        "id": "RFM9QplRno9y",
        "outputId": "ef00f7f4-cd63-48ce-94c8-04467dd6148e",
        "collapsed": true
      },
      "execution_count": 284,
      "outputs": [
        {
          "output_type": "stream",
          "name": "stdout",
          "text": [
            "dict_keys(['1101_1', '1001_1', '1001_2', '1001_3', '1501_1', '1501_2', '1501_3', '0601_1', '1301_1', '1301_2', '1301_3', '2301_1', '1901_1', '1901_2', '1901_3', '2401_1', '2401_2', '2201_1', '2801_1', '2801_2', '2901_1', '2901_2', '3001_1', '3601_1', '3301_1', '3301_2', '3501_1', '3501_2', '3501_3', '3401_1', '3401_2', '3201_1', '3201_2', '3801_1', '3801_2', '3801_3', '4001_1', '4001_2', 'wayne_1', 'bundy_1', 'bundy_2', 'bernardo_1', 'bernardo_2', 'bernardo_3', 'dahmer_1', 'dahmer_2', 'gacy_1', 'gacy_2', 'kemper_1', 'kemper_2', 'mitchell_1', 'mitchell_2', 'ridgeway_1', 'ridgeway_2', 'marsh_1', 'marsh_2', 'manson_1', 'fastow_1', 'madoff_1', 'murdoch_1', 'bankmanfried_1', 'jfk_1', 'reagan_1', 'clinton_1', 'lbj_1', 'hwb_1', 'truman_1', 'hoover_1', 'hoover_2', 'cruz_1', 'sanders_1', 'trump_1', 'trump_2', 'trump_3', 'nixon_1', 'nixon_2'])\n"
          ]
        }
      ]
    },
    {
      "cell_type": "code",
      "source": [
        "class StringProcessor: #make it easy to get categories for individual documents\n",
        "    def __init__(self):\n",
        "        \"\"\"\n",
        "        Initialize the StringProcessor with a default dictionary.\n",
        "        You can later modify this dictionary directly or by using the set_lookup_dict method.\n",
        "        \"\"\"\n",
        "\n",
        "        self.lookup_dict = {'hwb': 'pl', 'truman': 'pl', 'hoover': 'pl', 'sanders': 'pl', 'nixon': 'pl', 'carter': 'pl', 'trump': 'ph', 'jfk': 'ph', 'reagan': 'ph', 'fdr': 'ph', 'clinton': 'ph', 'gwb': 'ph', 'eisenhower': 'ph', 'lbj': 'ph', 'ford': 'ph', 'cruz': 'ph', 'fastow': 'c', 'skilling': 'c', 'madoff': 'c', 'maxwell': 'c', 'dunlap': 'c', 'murdoch': 'c', 'bankmanfried': 'c', 'lay': 'c', 'ebbers': 'c', 'wayne': 'fl', 'carl': 'fl', 'bundy': 'fl', 'bernardo': 'fl', 'dahmer': 'fl', 'gacy': 'fl', 'kemper': 'fl', 'mitchell': 'fl', 'ridgeway': 'fl', 'bennett': 'fl', 'sells': 'fl', 'bittaker': 'fl', 'marsh': 'fl', 'manson': 'fl', '1101': 'h', '1001': 'h', '1501': 'h', '0601': 'h', '0301': 'h', '1301': 'h', '2301': 'h', '1901': 'h', '2401': 'h', '2201': 'h', '2801': 'h', '2901': 'h', '3001': 'h', '3601': 'h', '3301': 'h', '3501': 'h', '3401': 'h', '3201': 'h', '3801': 'h', '4001': 'h'}\n",
        "\n",
        "\n",
        "    def lookup(self, key):\n",
        "        \"\"\"\n",
        "        Look up a key in the dictionary after processing it with get_name, and return the matching value.\n",
        "\n",
        "        :param key: The key to be looked up in the dictionary.\n",
        "        :return: The value associated with the key in the dictionary, or None if the key is not found.\n",
        "        \"\"\"\n",
        "        processed_key = self.get_name(key)\n",
        "        return self.lookup_dict.get(processed_key, None)\n",
        "\n",
        "    def get_name(self, input_string):\n",
        "        \"\"\"\n",
        "        Returns the first segment of the input string split by an underscore.\n",
        "\n",
        "        :param input_string: The string to split and process.\n",
        "        :return: The first segment of the split string, or the entire string if no underscore is present.\n",
        "        \"\"\"\n",
        "        return input_string.split(\"_\")[0]"
      ],
      "metadata": {
        "id": "xMsdHkb-tDvH"
      },
      "execution_count": 285,
      "outputs": []
    },
    {
      "cell_type": "markdown",
      "source": [
        "# Clustering"
      ],
      "metadata": {
        "id": "I0HszwnZMVgU"
      }
    },
    {
      "cell_type": "code",
      "execution_count": 286,
      "metadata": {
        "colab": {
          "base_uri": "https://localhost:8080/",
          "height": 1000
        },
        "id": "G377lsMu9Qwu",
        "outputId": "0680cdec-b4a9-4268-d8f6-c45b96bd4574"
      },
      "outputs": [
        {
          "output_type": "stream",
          "name": "stderr",
          "text": [
            "/usr/local/lib/python3.10/dist-packages/sklearn/feature_extraction/text.py:528: UserWarning: The parameter 'token_pattern' will not be used since 'tokenizer' is not None'\n",
            "  warnings.warn(\n"
          ]
        },
        {
          "output_type": "stream",
          "name": "stdout",
          "text": [
            "n_samples: 38, n_features: 63\n",
            "['be_aux' 'i_pron' 'and_cconj' 'the_det' 'an_det' 'it_pron' 'you_pron'\n",
            " 'uh_intj' 'of_adp' 'not_part' 'to_part' 'they_pron' 'in_adp' 'that_pron'\n",
            " 'we_pron' 'do_aux' 'he_pron' 'but_cconj' 'to_adp' 'that_sconj' 'have_aux'\n",
            " 'on_adp' 'my_pron' 'for_adp' 'with_adp' 'what_pron' 'she_pron' 'um_intj'\n",
            " 'yeah_intj' 'would_aux' 'or_cconj' 'because_sconj' 'there_pron' 'at_adp'\n",
            " 'like_adp' 'if_sconj' 'about_adp' 'out_adp' 'when_sconj' 'that_det'\n",
            " 'like_intj' 'up_adp' 'will_aux' 'well_intj' 'can_aux' 'from_adp'\n",
            " 'this_det' 'all_det' 'this_pron' 'could_aux' 'who_pron' 'something_pron'\n",
            " 'where_sconj' 'their_pron' 'no_det' 'how_sconj' 'into_adp' 'some_det'\n",
            " 'as_adp' 'as_sconj' 'your_pron' 'our_pron' 'by_adp']\n",
            "N=38 documents with V=63 features.\n"
          ]
        },
        {
          "output_type": "display_data",
          "data": {
            "text/plain": [
              "<Figure size 1200x1000 with 1 Axes>"
            ],
            "image/png": "[encoded data removed]"
          },
          "metadata": {}
        },
        {
          "output_type": "stream",
          "name": "stdout",
          "text": [
            "Cluster 1: ['bundy_2', 'bernardo_1', 'bernardo_2', 'bernardo_3', 'kemper_1', 'kemper_2', 'mitchell_1', 'ridgeway_1', 'ridgeway_2', 'marsh_1', 'marsh_2', 'manson_1']\n",
            "Cluster 2: ['mitchell_2', 'madoff_1', 'murdoch_1', 'bankmanfried_1', 'jfk_1', 'clinton_1', 'cruz_1', 'sanders_1', 'trump_1', 'trump_2', 'trump_3']\n",
            "Cluster 3: ['wayne_1', 'bundy_1', 'dahmer_1', 'dahmer_2', 'gacy_1', 'gacy_2', 'fastow_1', 'reagan_1', 'lbj_1', 'hwb_1', 'truman_1', 'hoover_1', 'hoover_2', 'nixon_1', 'nixon_2']\n",
            "cluster labels [3 3 1 1 1 1 3 3 3 3 1 1 1 2 1 1 1 1 1 3 2 2 2 2 3 2 3 3 3 3 3 2 2 2 2 2 3\n",
            " 3]\n"
          ]
        }
      ],
      "source": [
        "processor = StringProcessor()\n",
        "\n",
        "\n",
        "just_psy = [\"ph\", \"pl\", \"c\", \"fl\"]\n",
        "\n",
        "include = just_psy  #what categories to include in the clustering\n",
        "\n",
        "\n",
        "\n",
        "labels = []\n",
        "data = []\n",
        "# Filter and process documents based on inclusion criteria\n",
        "for document, text in docs.items():\n",
        "      if processor.lookup(document) in include:\n",
        "        data.append(\" \".join(text))\n",
        "        labels.append(document)\n",
        "\n",
        "from sklearn import preprocessing\n",
        "import scipy.spatial.distance as scidist\n",
        "import scipy.cluster.hierarchy as hierarchy\n",
        "import matplotlib.pyplot as plt\n",
        "import numpy as np\n",
        "from scipy.cluster.hierarchy import fcluster\n",
        "from sklearn.feature_extraction.text import CountVectorizer, TfidfVectorizer\n",
        "\n",
        "\n",
        "vectorizer = CountVectorizer(analyzer='word', tokenizer=str.split, vocabulary=[i.lower() for i in function_words], stop_words=None)\n",
        "\n",
        "X = vectorizer.fit_transform(data)\n",
        "print(f\"n_samples: {X.shape[0]}, n_features: {X.shape[1]}\")\n",
        "print(vectorizer.get_feature_names_out())\n",
        "\n",
        "\n",
        "v_documents = X.toarray()\n",
        "v_documents = preprocessing.normalize(v_documents.astype(np.float64), 'l1')\n",
        "scaler = preprocessing.StandardScaler()\n",
        "v_documents = scaler.fit_transform(v_documents)\n",
        "\n",
        "print(f'N={v_documents.shape[0]} documents with V={v_documents.shape[1]} features.')\n",
        "\n",
        "authors = labels\n",
        "#authors = cat_labels\n",
        "\n",
        "# Categories mapped to each author\n",
        "\n",
        "\n",
        "# Calculate pairwise distances\n",
        "dm = scidist.pdist(v_documents, 'euclidean')\n",
        "\n",
        "\n",
        "# Establish branch structure\n",
        "linkage_object = hierarchy.linkage(dm, method='ward')\n",
        "\n",
        "cutoff = 15  # Example cutoff\n",
        "cluster_labels = fcluster(linkage_object, cutoff, criterion='distance')\n",
        "\n",
        "# Plot dendrogram\n",
        "def plot_tree(linkage_object, labels, figsize=(12, 10), ax=None):\n",
        "    if ax is None:\n",
        "        fig, ax = plt.subplots(figsize=figsize)\n",
        "    hierarchy.dendrogram(linkage_object, labels=authors, ax=ax, color_threshold=cutoff,\n",
        "                          leaf_font_size=8, leaf_rotation=45)\n",
        "    plt.axhline(y=cutoff, color='r', linestyle='--')\n",
        "    ax.xaxis.set_ticks_position('none')\n",
        "    ax.yaxis.set_ticks_position('none')\n",
        "\n",
        "    for spine in ax.spines.values():\n",
        "        spine.set_visible(False)\n",
        "    plt.show()\n",
        "\n",
        "plot_tree(linkage_object, labels)\n",
        "\n",
        "# Print clusters\n",
        "clusters = {i: [] for i in np.unique(cluster_labels)}\n",
        "for doc_index, cluster_id in enumerate(cluster_labels):\n",
        "    clusters[cluster_id].append(authors[doc_index])\n",
        "\n",
        "for cluster, documents in clusters.items():\n",
        "    print(f\"Cluster {cluster}: {documents}\")\n",
        "\n",
        "print(f\"cluster labels {cluster_labels}\")"
      ]
    },
    {
      "cell_type": "markdown",
      "source": [
        "# PCA"
      ],
      "metadata": {
        "id": "Lqx2RTohMcLo"
      }
    },
    {
      "cell_type": "code",
      "source": [
        "import matplotlib.pyplot as plt\n",
        "import numpy as np\n",
        "import sklearn.decomposition\n",
        "from sklearn import preprocessing\n",
        "from sklearn.feature_extraction.text import CountVectorizer\n",
        "from itertools import chain\n",
        "import pandas as pd\n",
        "\n",
        "\n",
        "cluster_dict = {1: clusters[1], 2: clusters[2], 3: clusters[3]} #input clusters\n",
        "\n",
        "\n",
        "def plot_pca_from_dict(cluster_dict):\n",
        "    # Assume docs is a global variable in your code\n",
        "    global docs\n",
        "\n",
        "    # Prepare data for PCA\n",
        "    for_pca = {k: v for k, v in docs.items() if k in chain.from_iterable(cluster_dict.values())}\n",
        "    X1 = vectorizer.fit_transform([\" \".join(i) for i in for_pca.values()])\n",
        "    v1_documents = X1.toarray()\n",
        "    v1_documents = preprocessing.normalize(v1_documents.astype(np.float64), 'l1')\n",
        "    v1_documents = preprocessing.StandardScaler().fit_transform(v1_documents)\n",
        "\n",
        "    # Perform PCA\n",
        "    pca = sklearn.decomposition.PCA(n_components=2)\n",
        "    documents_proj = pca.fit_transform(v1_documents)\n",
        "\n",
        "    # Prepare authors and colors\n",
        "    authors = [i for i in for_pca.keys()]\n",
        "    num_clusters = len(cluster_dict)\n",
        "\n",
        "    colors = plt.cm.coolwarm(np.linspace(0, 1, num_clusters))  # C\n",
        "\n",
        "    # Plotting\n",
        "    fig, ax = plt.subplots()\n",
        "    for cluster_key, color in zip(cluster_dict.keys(), colors):\n",
        "      cluster_data = cluster_dict[cluster_key]\n",
        "      for author in cluster_data:\n",
        "        author_index = authors.index(author)\n",
        "        ax.scatter(documents_proj[author_index, 0], documents_proj[author_index, 1], edgecolor='grey', color=color)\n",
        "        ax.text(documents_proj[author_index, 0], documents_proj[author_index, 1], author, fontsize=10, ha='center', va='center', color='black')\n",
        "\n",
        "\n",
        "    ax.set(xlabel='PC1', ylabel='PC2')\n",
        "    plt.show()\n",
        "\n",
        "    loadings = pca.components_\n",
        "    feature_names = vectorizer.get_feature_names_out()\n",
        "    loading_matrix = pd.DataFrame(loadings.T, columns=['PC1', 'PC2'], index=feature_names)\n",
        "    sorted_loadings_PC1 = loading_matrix.sort_values(by='PC1', ascending=False)\n",
        "    sorted_loadings_PC2 = loading_matrix.sort_values(by='PC2', ascending=False)\n",
        "    print(\"Sorted by PC1:\\n\", sorted_loadings_PC1[0:60])\n",
        "    print(\"Sorted by PC2:\\n\", sorted_loadings_PC2[0:60])\n",
        "\n",
        "    return\n",
        "\n",
        "# Example usage\n",
        "# Assume docs and cluster_dict are defined globally in your code\n",
        "plot_pca_from_dict(cluster_dict)\n",
        "\n",
        "\n"
      ],
      "metadata": {
        "id": "mwUiRf6_fCPr",
        "colab": {
          "base_uri": "https://localhost:8080/",
          "height": 1000
        },
        "outputId": "c8117cae-d225-482c-dedb-6c61f64bc842"
      },
      "execution_count": 287,
      "outputs": [
        {
          "output_type": "stream",
          "name": "stderr",
          "text": [
            "/usr/local/lib/python3.10/dist-packages/sklearn/feature_extraction/text.py:528: UserWarning: The parameter 'token_pattern' will not be used since 'tokenizer' is not None'\n",
            "  warnings.warn(\n"
          ]
        },
        {
          "output_type": "display_data",
          "data": {
            "text/plain": [
              "<Figure size 640x480 with 1 Axes>"
            ],
            "image/png": "[encoded data removed]"
          },
          "metadata": {}
        },
        {
          "output_type": "stream",
          "name": "stdout",
          "text": [
            "Sorted by PC1:\n",
            "                      PC1       PC2\n",
            "not_part        0.281497 -0.084119\n",
            "do_aux          0.266895 -0.047021\n",
            "i_pron          0.255180  0.114376\n",
            "like_adp        0.238077 -0.045521\n",
            "yeah_intj       0.210803 -0.131680\n",
            "like_intj       0.207233 -0.108058\n",
            "my_pron         0.202250  0.192954\n",
            "what_pron       0.199832 -0.067798\n",
            "about_adp       0.167964 -0.097607\n",
            "she_pron        0.159353  0.069212\n",
            "your_pron       0.156546 -0.104232\n",
            "it_pron         0.139296 -0.128965\n",
            "something_pron  0.094133  0.022674\n",
            "um_intj         0.085749  0.063722\n",
            "how_sconj       0.080257 -0.023672\n",
            "that_det        0.080191  0.258609\n",
            "or_cconj        0.076154 -0.056282\n",
            "into_adp        0.076012  0.021138\n",
            "could_aux       0.055159  0.125675\n",
            "you_pron        0.047297 -0.218688\n",
            "to_part         0.047018  0.073523\n",
            "where_sconj     0.045359  0.101838\n",
            "this_pron       0.043599 -0.201676\n",
            "out_adp         0.040324  0.123854\n",
            "well_intj       0.022339  0.073884\n",
            "all_det         0.017981 -0.078373\n",
            "at_adp          0.013196  0.220182\n",
            "on_adp          0.003889 -0.014305\n",
            "with_adp       -0.006296  0.136873\n",
            "this_det       -0.006608  0.016490\n",
            "when_sconj     -0.008712  0.015901\n",
            "up_adp         -0.016299  0.198596\n",
            "would_aux      -0.016543  0.088383\n",
            "but_cconj      -0.027711 -0.193042\n",
            "as_adp         -0.029228  0.015112\n",
            "if_sconj       -0.034776 -0.093016\n",
            "be_aux         -0.035055 -0.261768\n",
            "an_det         -0.036997  0.076114\n",
            "can_aux        -0.038358 -0.055878\n",
            "some_det       -0.038881  0.198205\n",
            "to_adp         -0.040184  0.064437\n",
            "uh_intj        -0.042107  0.261002\n",
            "he_pron        -0.050516  0.108949\n",
            "no_det         -0.068591 -0.001187\n",
            "because_sconj  -0.082977 -0.226235\n",
            "from_adp       -0.088616  0.151793\n",
            "their_pron     -0.093486 -0.056654\n",
            "have_aux       -0.096771 -0.131473\n",
            "by_adp         -0.097004 -0.179472\n",
            "that_sconj     -0.097322 -0.005554\n",
            "our_pron       -0.101217 -0.047422\n",
            "there_pron     -0.105119 -0.053450\n",
            "will_aux       -0.108964 -0.049016\n",
            "for_adp        -0.115974  0.071308\n",
            "and_cconj      -0.122555  0.050355\n",
            "in_adp         -0.132992  0.173561\n",
            "that_pron      -0.134355 -0.147678\n",
            "who_pron       -0.144291 -0.176804\n",
            "as_sconj       -0.147544  0.081473\n",
            "they_pron      -0.167753 -0.115002\n",
            "Sorted by PC2:\n",
            "                      PC1       PC2\n",
            "uh_intj        -0.042107  0.261002\n",
            "that_det        0.080191  0.258609\n",
            "at_adp          0.013196  0.220182\n",
            "up_adp         -0.016299  0.198596\n",
            "some_det       -0.038881  0.198205\n",
            "my_pron         0.202250  0.192954\n",
            "in_adp         -0.132992  0.173561\n",
            "from_adp       -0.088616  0.151793\n",
            "with_adp       -0.006296  0.136873\n",
            "could_aux       0.055159  0.125675\n",
            "out_adp         0.040324  0.123854\n",
            "i_pron          0.255180  0.114376\n",
            "he_pron        -0.050516  0.108949\n",
            "where_sconj     0.045359  0.101838\n",
            "the_det        -0.250335  0.098607\n",
            "would_aux      -0.016543  0.088383\n",
            "as_sconj       -0.147544  0.081473\n",
            "an_det         -0.036997  0.076114\n",
            "well_intj       0.022339  0.073884\n",
            "to_part         0.047018  0.073523\n",
            "for_adp        -0.115974  0.071308\n",
            "she_pron        0.159353  0.069212\n",
            "to_adp         -0.040184  0.064437\n",
            "um_intj         0.085749  0.063722\n",
            "and_cconj      -0.122555  0.050355\n",
            "of_adp         -0.239573  0.038585\n",
            "something_pron  0.094133  0.022674\n",
            "into_adp        0.076012  0.021138\n",
            "this_det       -0.006608  0.016490\n",
            "when_sconj     -0.008712  0.015901\n",
            "as_adp         -0.029228  0.015112\n",
            "no_det         -0.068591 -0.001187\n",
            "that_sconj     -0.097322 -0.005554\n",
            "on_adp          0.003889 -0.014305\n",
            "how_sconj       0.080257 -0.023672\n",
            "like_adp        0.238077 -0.045521\n",
            "do_aux          0.266895 -0.047021\n",
            "our_pron       -0.101217 -0.047422\n",
            "will_aux       -0.108964 -0.049016\n",
            "there_pron     -0.105119 -0.053450\n",
            "can_aux        -0.038358 -0.055878\n",
            "or_cconj        0.076154 -0.056282\n",
            "their_pron     -0.093486 -0.056654\n",
            "what_pron       0.199832 -0.067798\n",
            "all_det         0.017981 -0.078373\n",
            "not_part        0.281497 -0.084119\n",
            "if_sconj       -0.034776 -0.093016\n",
            "about_adp       0.167964 -0.097607\n",
            "your_pron       0.156546 -0.104232\n",
            "like_intj       0.207233 -0.108058\n",
            "they_pron      -0.167753 -0.115002\n",
            "it_pron         0.139296 -0.128965\n",
            "have_aux       -0.096771 -0.131473\n",
            "yeah_intj       0.210803 -0.131680\n",
            "we_pron        -0.218165 -0.147302\n",
            "that_pron      -0.134355 -0.147678\n",
            "who_pron       -0.144291 -0.176804\n",
            "by_adp         -0.097004 -0.179472\n",
            "but_cconj      -0.027711 -0.193042\n",
            "this_pron       0.043599 -0.201676\n"
          ]
        }
      ]
    },
    {
      "cell_type": "code",
      "source": [
        "print(cluster_dict)"
      ],
      "metadata": {
        "colab": {
          "base_uri": "https://localhost:8080/"
        },
        "id": "ZPEhTir9Kdz8",
        "outputId": "27c17c0d-330d-4d17-f3a1-8a8b1f9aeffb"
      },
      "execution_count": 20,
      "outputs": [
        {
          "output_type": "stream",
          "name": "stdout",
          "text": [
            "{1: ['bundy_2', 'bernardo_1', 'bernardo_2', 'bernardo_3', 'kemper_1', 'kemper_2', 'mitchell_1', 'ridgeway_1', 'ridgeway_2', 'marsh_1', 'marsh_2', 'manson_1'], 2: ['mitchell_2', 'madoff_1', 'murdoch_1', 'bankmanfried_1', 'jfk_1', 'clinton_1', 'cruz_1', 'sanders_1', 'trump_1', 'trump_2', 'trump_3'], 3: ['wayne_1', 'bundy_1', 'dahmer_1', 'dahmer_2', 'gacy_1', 'gacy_2', 'fastow_1', 'reagan_1', 'lbj_1', 'hwb_1', 'truman_1', 'hoover_1', 'hoover_2', 'nixon_1', 'nixon_2']}\n"
          ]
        }
      ]
    },
    {
      "cell_type": "markdown",
      "source": [
        "#Logistic Regression"
      ],
      "metadata": {
        "id": "kV3vZqOm7S3l"
      }
    },
    {
      "cell_type": "markdown",
      "source": [
        " #Just Psychopaths\n",
        " #Cluster 1 (felons) vs. Cluster 2 (mix hp and corporate)"
      ],
      "metadata": {
        "id": "2ene5MRk7jsv"
      }
    },
    {
      "cell_type": "markdown",
      "source": [],
      "metadata": {
        "id": "7Nc36d9t7ei9"
      }
    },
    {
      "cell_type": "code",
      "source": [
        "for k,v in cluster_dict.items():\n",
        "  print(f\"Cluster {k}:\" ,v)#has the document names organized by their HAC cluster"
      ],
      "metadata": {
        "colab": {
          "base_uri": "https://localhost:8080/"
        },
        "id": "qMqWPNlc8QvR",
        "outputId": "a7539b17-c62e-41a5-dcde-6ca4ccc94e36"
      },
      "execution_count": 58,
      "outputs": [
        {
          "output_type": "stream",
          "name": "stdout",
          "text": [
            "Cluster 1: ['bundy_2', 'bernardo_1', 'bernardo_2', 'bernardo_3', 'kemper_1', 'kemper_2', 'mitchell_1', 'ridgeway_1', 'ridgeway_2', 'marsh_1', 'marsh_2', 'manson_1']\n",
            "Cluster 2: ['mitchell_2', 'madoff_1', 'murdoch_1', 'bankmanfried_1', 'jfk_1', 'clinton_1', 'cruz_1', 'sanders_1', 'trump_1', 'trump_2', 'trump_3']\n",
            "Cluster 3: ['wayne_1', 'bundy_1', 'dahmer_1', 'dahmer_2', 'gacy_1', 'gacy_2', 'fastow_1', 'reagan_1', 'lbj_1', 'hwb_1', 'truman_1', 'hoover_1', 'hoover_2', 'nixon_1', 'nixon_2']\n"
          ]
        }
      ]
    },
    {
      "cell_type": "code",
      "source": [
        "clus1 = 2 #select cluster from above\n",
        "clus2 = 3 #select cluster from above\n"
      ],
      "metadata": {
        "id": "inLoY0qz-U6w"
      },
      "execution_count": 260,
      "outputs": []
    },
    {
      "cell_type": "code",
      "source": [
        "import pandas as pd\n",
        "\n",
        "cl1 = pd.DataFrame({'document': cluster_dict[clus1],\n",
        "                     'text': [docs[name] for name in cluster_dict[clus1]],\n",
        "                     'label': 1})\n",
        "cl2 = pd.DataFrame({'document': cluster_dict[clus2],\n",
        "                     'text': [docs[name] for name in cluster_dict[clus2]],\n",
        "                     'label': 0})\n",
        "\n",
        "# prepare dataframe"
      ],
      "metadata": {
        "id": "XLfo7GT9766x"
      },
      "execution_count": 261,
      "outputs": []
    },
    {
      "cell_type": "code",
      "source": [
        "combined_df = pd.concat([cl1, cl2], axis=0) #combine"
      ],
      "metadata": {
        "id": "xW-p1Mw379R8"
      },
      "execution_count": 262,
      "outputs": []
    },
    {
      "cell_type": "code",
      "source": [
        "print(combined_df)"
      ],
      "metadata": {
        "colab": {
          "base_uri": "https://localhost:8080/"
        },
        "id": "5a15-axsoHPJ",
        "outputId": "35cfceed-f3b2-4f1a-b7cc-2d6bce256432"
      },
      "execution_count": 263,
      "outputs": [
        {
          "output_type": "stream",
          "name": "stdout",
          "text": [
            "          document                                               text  label\n",
            "0       mitchell_2  [free_ADJ, it_PRON, be_AUX, just_ADV, as_SCONJ...      1\n",
            "1         madoff_1  [you_PRON, know_VERB, when_SCONJ, we_PRON, sho...      1\n",
            "2        murdoch_1  [uh_INTJ, basically_ADV, it_PRON, be_AUX, very...      1\n",
            "3   bankmanfried_1  [you_PRON, know_VERB, it_PRON, it_PRON, be_AUX...      1\n",
            "4            jfk_1  [in_ADP, the_DET, 1st_ADJ, place_NOUN, I_PRON,...      1\n",
            "5        clinton_1  [Most_ADJ, people_NOUN, think_VERB, you_PRON, ...      1\n",
            "6           cruz_1  [I_PRON, I_PRON, laugh_VERB, out_ADP, loud_ADJ...      1\n",
            "7        sanders_1  [Elon_PROPN, Musk_PROPN, now_ADV, own_VERB, Tw...      1\n",
            "8          trump_1  [okay_INTJ, thank_VERB, you_PRON, very_ADV, mu...      1\n",
            "9          trump_2  [there_PRON, be_VERB, no_DET, Democrat_PROPN, ...      1\n",
            "10         trump_3  [thing_NOUN, dead_ADJ, people_NOUN, so_ADV, de...      1\n",
            "0          wayne_1  [my_PRON, very_ADV, first_ADJ, contemplation_N...      0\n",
            "1          bundy_1  [yes_INTJ, that_PRON, be_AUX, true_ADJ, I_PRON...      0\n",
            "2         dahmer_1  [hey_INTJ, you_PRON, be_AUX, lucky_ADJ, you_PR...      0\n",
            "3         dahmer_2  [year_NOUN, later_ADV, I_PRON, be_AUX, NUM_NUM...      0\n",
            "4           gacy_1  [well_INTJ, that_PRON, be_AUX, hogwash_VERB, y...      0\n",
            "5           gacy_2  [station_NOUN, finally_ADV, on_ADP, the_DET, n...      0\n",
            "6         fastow_1  [you_PRON, know_VERB, that_PRON, be_AUX, uh_IN...      0\n",
            "7         reagan_1  [well_INTJ, she_PRON, core_NOUN, of_ADP, cours...      0\n",
            "8            lbj_1  [I_PRON, want_VERB, an_DET, couple_NOUN, of_AD...      0\n",
            "9            hwb_1  [I_PRON, do_VERB, not_PART, I_PRON, honestly_A...      0\n",
            "10        truman_1  [well_INTJ, I_PRON, I_PRON, it_PRON, will_AUX,...      0\n",
            "11        hoover_1  [Republic_PROPN, after_ADP, the_DET, First_PRO...      0\n",
            "12        hoover_2  [somewhere_ADV, out_ADP, at_ADP, college_NOUN,...      0\n",
            "13         nixon_1  [because_SCONJ, the_DET, United_PROPN, States_...      0\n",
            "14         nixon_2  [who_PRON, have_VERB, experience_NOUN, in_ADP,...      0\n"
          ]
        }
      ]
    },
    {
      "cell_type": "code",
      "source": [
        "features = [i.lower() for i in function_words] #original entire feature set (63 function words)\n"
      ],
      "metadata": {
        "id": "3Vxz_4QWQeGR"
      },
      "execution_count": 264,
      "outputs": []
    },
    {
      "cell_type": "code",
      "source": [
        "print(combined_df[\"document\"])"
      ],
      "metadata": {
        "colab": {
          "base_uri": "https://localhost:8080/"
        },
        "id": "72zKvUcV4U-X",
        "outputId": "8ca64a3e-9315-40c8-e691-8bf59b9d8597"
      },
      "execution_count": 265,
      "outputs": [
        {
          "output_type": "stream",
          "name": "stdout",
          "text": [
            "0         mitchell_2\n",
            "1           madoff_1\n",
            "2          murdoch_1\n",
            "3     bankmanfried_1\n",
            "4              jfk_1\n",
            "5          clinton_1\n",
            "6             cruz_1\n",
            "7          sanders_1\n",
            "8            trump_1\n",
            "9            trump_2\n",
            "10           trump_3\n",
            "0            wayne_1\n",
            "1            bundy_1\n",
            "2           dahmer_1\n",
            "3           dahmer_2\n",
            "4             gacy_1\n",
            "5             gacy_2\n",
            "6           fastow_1\n",
            "7           reagan_1\n",
            "8              lbj_1\n",
            "9              hwb_1\n",
            "10          truman_1\n",
            "11          hoover_1\n",
            "12          hoover_2\n",
            "13           nixon_1\n",
            "14           nixon_2\n",
            "Name: document, dtype: object\n"
          ]
        }
      ]
    },
    {
      "cell_type": "code",
      "source": [
        "import pandas as pd\n",
        "\n",
        "# remove duplicate authors in each cluster ex: Bernardo_1, Bernardo_2, Bernardo_3\n",
        "\n",
        "# Create a new column by splitting the 'label' field\n",
        "combined_df['label_split'] = combined_df['document'].apply(lambda x: x.split('_')[0])\n",
        "\n",
        "# Removing duplicates based on the 'label_split' and 'label' columns\n",
        "df_unique = combined_df.drop_duplicates(subset=['label_split', 'label'])\n",
        "\n",
        "# Dropping the temporary 'label_split' column\n",
        "df_unique = df_unique.drop(columns=['label_split'])\n",
        "\n",
        "# Resetting the index of df_unique\n",
        "df_unique = df_unique.reset_index(drop=True)\n",
        "\n",
        "print(df_unique)\n",
        "\n"
      ],
      "metadata": {
        "colab": {
          "base_uri": "https://localhost:8080/"
        },
        "id": "x1q3e9Mv35je",
        "outputId": "96e18d09-35fe-4b2e-c961-512af91c0884"
      },
      "execution_count": 270,
      "outputs": [
        {
          "output_type": "stream",
          "name": "stdout",
          "text": [
            "          document                                               text  label\n",
            "0       mitchell_2  [free_ADJ, it_PRON, be_AUX, just_ADV, as_SCONJ...      1\n",
            "1         madoff_1  [you_PRON, know_VERB, when_SCONJ, we_PRON, sho...      1\n",
            "2        murdoch_1  [uh_INTJ, basically_ADV, it_PRON, be_AUX, very...      1\n",
            "3   bankmanfried_1  [you_PRON, know_VERB, it_PRON, it_PRON, be_AUX...      1\n",
            "4            jfk_1  [in_ADP, the_DET, 1st_ADJ, place_NOUN, I_PRON,...      1\n",
            "5        clinton_1  [Most_ADJ, people_NOUN, think_VERB, you_PRON, ...      1\n",
            "6           cruz_1  [I_PRON, I_PRON, laugh_VERB, out_ADP, loud_ADJ...      1\n",
            "7        sanders_1  [Elon_PROPN, Musk_PROPN, now_ADV, own_VERB, Tw...      1\n",
            "8          trump_1  [okay_INTJ, thank_VERB, you_PRON, very_ADV, mu...      1\n",
            "9          wayne_1  [my_PRON, very_ADV, first_ADJ, contemplation_N...      0\n",
            "10         bundy_1  [yes_INTJ, that_PRON, be_AUX, true_ADJ, I_PRON...      0\n",
            "11        dahmer_1  [hey_INTJ, you_PRON, be_AUX, lucky_ADJ, you_PR...      0\n",
            "12          gacy_1  [well_INTJ, that_PRON, be_AUX, hogwash_VERB, y...      0\n",
            "13        fastow_1  [you_PRON, know_VERB, that_PRON, be_AUX, uh_IN...      0\n",
            "14        reagan_1  [well_INTJ, she_PRON, core_NOUN, of_ADP, cours...      0\n",
            "15           lbj_1  [I_PRON, want_VERB, an_DET, couple_NOUN, of_AD...      0\n",
            "16           hwb_1  [I_PRON, do_VERB, not_PART, I_PRON, honestly_A...      0\n",
            "17        truman_1  [well_INTJ, I_PRON, I_PRON, it_PRON, will_AUX,...      0\n",
            "18        hoover_1  [Republic_PROPN, after_ADP, the_DET, First_PRO...      0\n",
            "19         nixon_1  [because_SCONJ, the_DET, United_PROPN, States_...      0\n"
          ]
        }
      ]
    },
    {
      "cell_type": "code",
      "source": [
        "from sklearn.model_selection import LeaveOneOut\n",
        "from sklearn.feature_extraction.text import CountVectorizer\n",
        "from sklearn.linear_model import LogisticRegression\n",
        "from sklearn.metrics import accuracy_score\n",
        "import pandas as pd\n",
        "from sklearn.preprocessing import StandardScaler\n",
        "\n",
        "# Example texts and labels\n",
        "exp_texts = df_unique[\"text\"]  # get texts\n",
        "exp_labels = df_unique[\"label\"]  # get labels\n",
        "\n",
        "# Initialize CountVectorizer\n",
        "vectorizer_lr = CountVectorizer(vocabulary=features, tokenizer=str.split, analyzer='word')  # instantiate vectorizer for logreg\n",
        "\n",
        "\n",
        "# Fit and transform the texts\n",
        "X_lr = vectorizer_lr.fit_transform(([\" \".join(i) for i in exp_texts]))\n",
        "\n",
        "X_lr = X_lr.toarray()\n",
        "\n",
        "X_lr = preprocessing.normalize(X_lr.astype(np.float64), 'l1')\n",
        "# Initialize the StandardScaler\n",
        "scaler = StandardScaler()\n",
        "\n",
        "# Fit and transform the document-term matrix using the scaler\n",
        "X_scaled = scaler.fit_transform(X_lr)\n",
        "\n",
        "# Initialize Logistic Regression model\n",
        "model = LogisticRegression(penalty='l1', solver='liblinear')  # instantiate model\n",
        "\n",
        "# Initialize Leave-One-Out Cross-Validation\n",
        "loo = LeaveOneOut()\n",
        "\n",
        "# Initialize lists to store true labels, predicted labels, and document names\n",
        "true_labels = [i for i in exp_labels]\n",
        "predicted_labels = []\n",
        "predicted_documents = []  # list to store document names for each prediction\n",
        "\n",
        "# Convert labels to NumPy array\n",
        "labels_array = exp_labels.to_numpy()\n",
        "\n",
        "\n",
        "# Perform LOOCV\n",
        "for train_index, test_index in loo.split(X_scaled):\n",
        "    # Split the data into training and test sets\n",
        "    X_train, X_test = X_scaled[train_index], X_scaled[test_index]\n",
        "    y_train, y_test = labels_array[train_index], labels_array[test_index]\n",
        "\n",
        "    # Document names for the test set\n",
        "    doc_test = df_unique.iloc[test_index]['document'].values[0]  # directly get the test document name\n",
        "\n",
        "    # Fit the model on the training data\n",
        "    model.fit(X_train, y_train)\n",
        "\n",
        "    y_pred_prob = model.predict_proba(X_test)[:, 1]  # Get probability of '1'\n",
        "    # Making binary predictions\n",
        "    y_pred = model.predict(X_test)\n",
        "\n",
        "    # Predict the label for the test data\n",
        "    y_pred = model.predict(X_test)\n",
        "\n",
        "    # Append predicted label to list\n",
        "    predicted_labels.append(y_pred[0])\n",
        "    # Append the document name for the prediction\n",
        "    predicted_documents.append(doc_test)\n",
        "\n",
        "    # Fetching feature names\n",
        "    feature_names = vectorizer_lr.get_feature_names_out()\n",
        "    feature_values = X_test\n",
        "\n",
        "    # Print the test document name, the feature vectors, and the corresponding label\n",
        "    #print(\"Document Name:\", doc_test)\n",
        "    #print(\"Feature Names and Values:\", list(zip(feature_names, feature_values[0])))\n",
        "    #if y_pred[0] != y_test[0]:\n",
        "    print(\"Document Name:\", doc_test)\n",
        "    print(\"Transformed Log Odds:\", y_pred_prob[0])\n",
        "    print(\"Predicted:\", y_pred[0])\n",
        "    print(\"Label:\", y_test[0])\n",
        "\n",
        "    print(\"\\n\")\n",
        "\n",
        "# Calculate accuracy\n",
        "accuracy = accuracy_score(true_labels, predicted_labels)\n",
        "\n",
        "\n",
        "from sklearn.metrics import accuracy_score, classification_report\n",
        "\n",
        "print(f\"LOOCV Accuracy: {accuracy}\")\n",
        "print(\"\\nClassification Report:\")\n",
        "print(classification_report(true_labels, predicted_labels))\n",
        "\n",
        "\n",
        "\n"
      ],
      "metadata": {
        "colab": {
          "base_uri": "https://localhost:8080/"
        },
        "id": "Zogg57au-G_A",
        "outputId": "2317d200-f48f-457d-b72f-5880ba1e2786"
      },
      "execution_count": 271,
      "outputs": [
        {
          "output_type": "stream",
          "name": "stdout",
          "text": [
            "Document Name: mitchell_2\n",
            "Transformed Log Odds: 0.573813601386307\n",
            "Predicted: 1\n",
            "Label: 1\n",
            "\n",
            "\n",
            "Document Name: madoff_1\n",
            "Transformed Log Odds: 0.7649050841732317\n",
            "Predicted: 1\n",
            "Label: 1\n",
            "\n",
            "\n",
            "Document Name: murdoch_1\n",
            "Transformed Log Odds: 0.8571120704285315\n",
            "Predicted: 1\n",
            "Label: 1\n",
            "\n",
            "\n",
            "Document Name: bankmanfried_1\n",
            "Transformed Log Odds: 0.7229291770954855\n",
            "Predicted: 1\n",
            "Label: 1\n",
            "\n",
            "\n",
            "Document Name: jfk_1\n",
            "Transformed Log Odds: 0.7737783645025507\n",
            "Predicted: 1\n",
            "Label: 1\n",
            "\n",
            "\n",
            "Document Name: clinton_1\n",
            "Transformed Log Odds: 0.7309423231085546\n",
            "Predicted: 1\n",
            "Label: 1\n",
            "\n",
            "\n",
            "Document Name: cruz_1\n",
            "Transformed Log Odds: 0.35512788842685317\n",
            "Predicted: 0\n",
            "Label: 1\n",
            "\n",
            "\n",
            "Document Name: sanders_1\n",
            "Transformed Log Odds: 0.886341225923777\n",
            "Predicted: 1\n",
            "Label: 1\n",
            "\n",
            "\n",
            "Document Name: trump_1\n",
            "Transformed Log Odds: 0.993785344088279\n",
            "Predicted: 1\n",
            "Label: 1\n",
            "\n",
            "\n",
            "Document Name: wayne_1\n",
            "Transformed Log Odds: 0.17262116927837376\n",
            "Predicted: 0\n",
            "Label: 0\n",
            "\n",
            "\n",
            "Document Name: bundy_1\n",
            "Transformed Log Odds: 0.2455473292810628\n",
            "Predicted: 0\n",
            "Label: 0\n",
            "\n",
            "\n",
            "Document Name: dahmer_1\n",
            "Transformed Log Odds: 0.18306989965539938\n",
            "Predicted: 0\n",
            "Label: 0\n",
            "\n",
            "\n",
            "Document Name: gacy_1\n",
            "Transformed Log Odds: 0.20105455754565085\n",
            "Predicted: 0\n",
            "Label: 0\n",
            "\n",
            "\n",
            "Document Name: fastow_1\n",
            "Transformed Log Odds: 0.639973130375037\n",
            "Predicted: 1\n",
            "Label: 0\n",
            "\n",
            "\n",
            "Document Name: reagan_1\n",
            "Transformed Log Odds: 0.7644883463585117\n",
            "Predicted: 1\n",
            "Label: 0\n",
            "\n",
            "\n",
            "Document Name: lbj_1\n",
            "Transformed Log Odds: 0.050495288260155806\n",
            "Predicted: 0\n",
            "Label: 0\n",
            "\n",
            "\n",
            "Document Name: hwb_1\n",
            "Transformed Log Odds: 0.41927419452017317\n",
            "Predicted: 0\n",
            "Label: 0\n",
            "\n",
            "\n",
            "Document Name: truman_1\n",
            "Transformed Log Odds: 0.9000869792234129\n",
            "Predicted: 1\n",
            "Label: 0\n",
            "\n",
            "\n",
            "Document Name: hoover_1\n",
            "Transformed Log Odds: 0.513224043005828\n",
            "Predicted: 1\n",
            "Label: 0\n",
            "\n",
            "\n",
            "Document Name: nixon_1\n",
            "Transformed Log Odds: 0.517890348846379\n",
            "Predicted: 1\n",
            "Label: 0\n",
            "\n",
            "\n",
            "LOOCV Accuracy: 0.7\n",
            "\n",
            "Classification Report:\n",
            "              precision    recall  f1-score   support\n",
            "\n",
            "           0       0.86      0.55      0.67        11\n",
            "           1       0.62      0.89      0.73         9\n",
            "\n",
            "    accuracy                           0.70        20\n",
            "   macro avg       0.74      0.72      0.70        20\n",
            "weighted avg       0.75      0.70      0.69        20\n",
            "\n"
          ]
        },
        {
          "output_type": "stream",
          "name": "stderr",
          "text": [
            "/usr/local/lib/python3.10/dist-packages/sklearn/feature_extraction/text.py:528: UserWarning: The parameter 'token_pattern' will not be used since 'tokenizer' is not None'\n",
            "  warnings.warn(\n"
          ]
        }
      ]
    },
    {
      "cell_type": "code",
      "source": [
        "# Get the coefficients of the logistic regression model\n",
        "coefficients = model.coef_[0]  # For binary classification, there is only one set of coefficients\n",
        "intercept = model.intercept_   # Intercept of the logistic regression model\n",
        "print(f\"intercept:{intercept}\")\n",
        "\n",
        "# Combine the coefficients with the corresponding feature names\n",
        "feature_names = vectorizer_lr.get_feature_names_out()\n",
        "coefficients_dict = dict(zip(feature_names, coefficients))\n",
        "\n",
        "# Sort the dictionary by values in descending order\n",
        "sorted_coefficients = sorted(coefficients_dict.items(), key=lambda item: abs(item[1]), reverse=True)\n",
        "print(sorted_coefficients)\n",
        "# Print each feature and its coefficient, rounded to two decimal places\n",
        "for feature, coef in sorted_coefficients:\n",
        "    rounded_coef = round(coef, 2)  # Using round()\n",
        "    # Alternatively, using formatted strings:\n",
        "    rounded_coef = f\"{coef:.2f}\"\n",
        "    print(f\"{feature}: {rounded_coef}\")\n",
        "\n",
        "\n",
        "\n",
        "\n",
        "\n"
      ],
      "metadata": {
        "colab": {
          "base_uri": "https://localhost:8080/"
        },
        "id": "vUcBYhZDEKIv",
        "outputId": "4fdd19e9-c0c0-45a7-a157-92f6ebe3e236"
      },
      "execution_count": 272,
      "outputs": [
        {
          "output_type": "stream",
          "name": "stdout",
          "text": [
            "intercept:[0.]\n",
            "[('who_pron', 1.1131134342315723), ('i_pron', -0.906988102612285), ('for_adp', 0.5327692799796523), ('have_aux', 0.33396479030664206), ('my_pron', -0.2881273008211846), ('uh_intj', -0.26285403484889885), ('he_pron', -0.25693022427930395), ('well_intj', -0.13929133843924615), ('on_adp', 0.060756023960322855), ('be_aux', 0.0), ('and_cconj', 0.0), ('the_det', 0.0), ('an_det', 0.0), ('it_pron', 0.0), ('you_pron', 0.0), ('of_adp', 0.0), ('not_part', 0.0), ('to_part', 0.0), ('they_pron', 0.0), ('in_adp', 0.0), ('that_pron', 0.0), ('we_pron', 0.0), ('do_aux', 0.0), ('but_cconj', 0.0), ('to_adp', 0.0), ('that_sconj', 0.0), ('with_adp', 0.0), ('what_pron', 0.0), ('she_pron', 0.0), ('um_intj', 0.0), ('yeah_intj', 0.0), ('would_aux', 0.0), ('or_cconj', 0.0), ('because_sconj', 0.0), ('there_pron', 0.0), ('at_adp', 0.0), ('like_adp', 0.0), ('if_sconj', 0.0), ('about_adp', 0.0), ('out_adp', 0.0), ('when_sconj', 0.0), ('that_det', 0.0), ('like_intj', 0.0), ('up_adp', 0.0), ('will_aux', 0.0), ('can_aux', 0.0), ('from_adp', 0.0), ('this_det', 0.0), ('all_det', 0.0), ('this_pron', 0.0), ('could_aux', 0.0), ('something_pron', 0.0), ('where_sconj', 0.0), ('their_pron', 0.0), ('no_det', 0.0), ('how_sconj', 0.0), ('into_adp', 0.0), ('some_det', 0.0), ('as_adp', 0.0), ('as_sconj', 0.0), ('your_pron', 0.0), ('our_pron', 0.0), ('by_adp', 0.0)]\n",
            "who_pron: 1.11\n",
            "i_pron: -0.91\n",
            "for_adp: 0.53\n",
            "have_aux: 0.33\n",
            "my_pron: -0.29\n",
            "uh_intj: -0.26\n",
            "he_pron: -0.26\n",
            "well_intj: -0.14\n",
            "on_adp: 0.06\n",
            "be_aux: 0.00\n",
            "and_cconj: 0.00\n",
            "the_det: 0.00\n",
            "an_det: 0.00\n",
            "it_pron: 0.00\n",
            "you_pron: 0.00\n",
            "of_adp: 0.00\n",
            "not_part: 0.00\n",
            "to_part: 0.00\n",
            "they_pron: 0.00\n",
            "in_adp: 0.00\n",
            "that_pron: 0.00\n",
            "we_pron: 0.00\n",
            "do_aux: 0.00\n",
            "but_cconj: 0.00\n",
            "to_adp: 0.00\n",
            "that_sconj: 0.00\n",
            "with_adp: 0.00\n",
            "what_pron: 0.00\n",
            "she_pron: 0.00\n",
            "um_intj: 0.00\n",
            "yeah_intj: 0.00\n",
            "would_aux: 0.00\n",
            "or_cconj: 0.00\n",
            "because_sconj: 0.00\n",
            "there_pron: 0.00\n",
            "at_adp: 0.00\n",
            "like_adp: 0.00\n",
            "if_sconj: 0.00\n",
            "about_adp: 0.00\n",
            "out_adp: 0.00\n",
            "when_sconj: 0.00\n",
            "that_det: 0.00\n",
            "like_intj: 0.00\n",
            "up_adp: 0.00\n",
            "will_aux: 0.00\n",
            "can_aux: 0.00\n",
            "from_adp: 0.00\n",
            "this_det: 0.00\n",
            "all_det: 0.00\n",
            "this_pron: 0.00\n",
            "could_aux: 0.00\n",
            "something_pron: 0.00\n",
            "where_sconj: 0.00\n",
            "their_pron: 0.00\n",
            "no_det: 0.00\n",
            "how_sconj: 0.00\n",
            "into_adp: 0.00\n",
            "some_det: 0.00\n",
            "as_adp: 0.00\n",
            "as_sconj: 0.00\n",
            "your_pron: 0.00\n",
            "our_pron: 0.00\n",
            "by_adp: 0.00\n"
          ]
        }
      ]
    },
    {
      "cell_type": "code",
      "source": [
        "print(vectorizer_lr.get_feature_names_out())"
      ],
      "metadata": {
        "colab": {
          "base_uri": "https://localhost:8080/"
        },
        "id": "bjvBA9jeD4YR",
        "outputId": "d862775b-371c-4737-f359-4a04c4eefe53"
      },
      "execution_count": 269,
      "outputs": [
        {
          "output_type": "stream",
          "name": "stdout",
          "text": [
            "['be_aux' 'i_pron' 'and_cconj' 'the_det' 'an_det' 'it_pron' 'you_pron'\n",
            " 'uh_intj' 'of_adp' 'not_part' 'to_part' 'they_pron' 'in_adp' 'that_pron'\n",
            " 'we_pron' 'do_aux' 'he_pron' 'but_cconj' 'to_adp' 'that_sconj' 'have_aux'\n",
            " 'on_adp' 'my_pron' 'for_adp' 'with_adp' 'what_pron' 'she_pron' 'um_intj'\n",
            " 'yeah_intj' 'would_aux' 'or_cconj' 'because_sconj' 'there_pron' 'at_adp'\n",
            " 'like_adp' 'if_sconj' 'about_adp' 'out_adp' 'when_sconj' 'that_det'\n",
            " 'like_intj' 'up_adp' 'will_aux' 'well_intj' 'can_aux' 'from_adp'\n",
            " 'this_det' 'all_det' 'this_pron' 'could_aux' 'who_pron' 'something_pron'\n",
            " 'where_sconj' 'their_pron' 'no_det' 'how_sconj' 'into_adp' 'some_det'\n",
            " 'as_adp' 'as_sconj' 'your_pron' 'our_pron' 'by_adp']\n"
          ]
        }
      ]
    }
  ],
  "metadata": {
    "colab": {
      "provenance": []
    },
    "kernelspec": {
      "display_name": "Python 3",
      "name": "python3"
    },
    "language_info": {
      "name": "python"
    }
  },
  "nbformat": 4,
  "nbformat_minor": 0
}